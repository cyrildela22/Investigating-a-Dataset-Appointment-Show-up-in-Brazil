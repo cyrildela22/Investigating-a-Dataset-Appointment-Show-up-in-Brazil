{
 "cells": [
  {
   "cell_type": "markdown",
   "metadata": {},
   "source": [
    "# Project: Investigate a Dataset (Appointment Show up in Brazil)\n",
    "\n",
    "## Table of Contents\n",
    "<ul>\n",
    "<li><a href=\"#intro\">Introduction</a></li>\n",
    "<li><a href=\"#wrangling\">Data Wrangling</a></li>\n",
    "<li><a href=\"#eda\">Exploratory Data Analysis</a></li>\n",
    "<li><a href=\"#conclusions\">Conclusions</a></li>\n",
    "</ul>"
   ]
  },
  {
   "cell_type": "markdown",
   "metadata": {},
   "source": [
    "<a id='intro'></a>\n",
    "## Introduction\n",
    "\n",
    "> The goal of this project is to analyse data related to medical appointments made by people leaving in Brazil. This project focuses on using variables or features of patients to predict whether or not patients will show up for their scheduled appointment. The given data has 110527 entries and 14 features. I would first of all access and explore the data before cleaning the data since understanding the data helps to know what questions to ask or which questions needs to be address. Some of the questions to consider for this prediction are\\\n",
    "> Which gender shows up more and does gender influence or affect show up fro medical appointment?\\\n",
    "> Does scholarship influence or affect show up?\\\n",
    "> Which age class shows up more and does the age affect the show up?\\\n",
    "> Does people who receive sms message show up?\\\n",
    "> Does the neighborhood a patient live in affect show up? \\\n",
    "> Does the day of the week the appointment was made influence show up?\\\n",
    "> Does gender and age class affect show up?\n"
   ]
  },
  {
   "cell_type": "code",
   "execution_count": 71,
   "metadata": {},
   "outputs": [],
   "source": [
    "#importing important libraries for my data analysis\n",
    "import numpy as np\n",
    "import pandas as pd\n",
    "import matplotlib.pyplot as plt\n",
    "import seaborn as sbn\n",
    "%matplotlib inline\n",
    "\n"
   ]
  },
  {
   "cell_type": "markdown",
   "metadata": {},
   "source": [
    "<a id='wrangling'></a>\n",
    "## Data Wrangling\n",
    "Access, explore and clean data by dropping irrelevant columns, remove duplicates and change datatype of AppointmentDay column. "
   ]
  },
  {
   "cell_type": "code",
   "execution_count": 91,
   "metadata": {},
   "outputs": [
    {
     "data": {
      "text/html": [
       "<div>\n",
       "<style scoped>\n",
       "    .dataframe tbody tr th:only-of-type {\n",
       "        vertical-align: middle;\n",
       "    }\n",
       "\n",
       "    .dataframe tbody tr th {\n",
       "        vertical-align: top;\n",
       "    }\n",
       "\n",
       "    .dataframe thead th {\n",
       "        text-align: right;\n",
       "    }\n",
       "</style>\n",
       "<table border=\"1\" class=\"dataframe\">\n",
       "  <thead>\n",
       "    <tr style=\"text-align: right;\">\n",
       "      <th></th>\n",
       "      <th>PatientId</th>\n",
       "      <th>AppointmentID</th>\n",
       "      <th>Gender</th>\n",
       "      <th>ScheduledDay</th>\n",
       "      <th>AppointmentDay</th>\n",
       "      <th>Age</th>\n",
       "      <th>Neighbourhood</th>\n",
       "      <th>Scholarship</th>\n",
       "      <th>Hipertension</th>\n",
       "      <th>Diabetes</th>\n",
       "      <th>Alcoholism</th>\n",
       "      <th>Handcap</th>\n",
       "      <th>SMS_received</th>\n",
       "      <th>No-show</th>\n",
       "    </tr>\n",
       "  </thead>\n",
       "  <tbody>\n",
       "    <tr>\n",
       "      <th>0</th>\n",
       "      <td>2.987250e+13</td>\n",
       "      <td>5642903</td>\n",
       "      <td>F</td>\n",
       "      <td>2016-04-29T18:38:08Z</td>\n",
       "      <td>2016-04-29T00:00:00Z</td>\n",
       "      <td>62</td>\n",
       "      <td>JARDIM DA PENHA</td>\n",
       "      <td>0</td>\n",
       "      <td>1</td>\n",
       "      <td>0</td>\n",
       "      <td>0</td>\n",
       "      <td>0</td>\n",
       "      <td>0</td>\n",
       "      <td>No</td>\n",
       "    </tr>\n",
       "    <tr>\n",
       "      <th>1</th>\n",
       "      <td>5.589978e+14</td>\n",
       "      <td>5642503</td>\n",
       "      <td>M</td>\n",
       "      <td>2016-04-29T16:08:27Z</td>\n",
       "      <td>2016-04-29T00:00:00Z</td>\n",
       "      <td>56</td>\n",
       "      <td>JARDIM DA PENHA</td>\n",
       "      <td>0</td>\n",
       "      <td>0</td>\n",
       "      <td>0</td>\n",
       "      <td>0</td>\n",
       "      <td>0</td>\n",
       "      <td>0</td>\n",
       "      <td>No</td>\n",
       "    </tr>\n",
       "    <tr>\n",
       "      <th>2</th>\n",
       "      <td>4.262962e+12</td>\n",
       "      <td>5642549</td>\n",
       "      <td>F</td>\n",
       "      <td>2016-04-29T16:19:04Z</td>\n",
       "      <td>2016-04-29T00:00:00Z</td>\n",
       "      <td>62</td>\n",
       "      <td>MATA DA PRAIA</td>\n",
       "      <td>0</td>\n",
       "      <td>0</td>\n",
       "      <td>0</td>\n",
       "      <td>0</td>\n",
       "      <td>0</td>\n",
       "      <td>0</td>\n",
       "      <td>No</td>\n",
       "    </tr>\n",
       "    <tr>\n",
       "      <th>3</th>\n",
       "      <td>8.679512e+11</td>\n",
       "      <td>5642828</td>\n",
       "      <td>F</td>\n",
       "      <td>2016-04-29T17:29:31Z</td>\n",
       "      <td>2016-04-29T00:00:00Z</td>\n",
       "      <td>8</td>\n",
       "      <td>PONTAL DE CAMBURI</td>\n",
       "      <td>0</td>\n",
       "      <td>0</td>\n",
       "      <td>0</td>\n",
       "      <td>0</td>\n",
       "      <td>0</td>\n",
       "      <td>0</td>\n",
       "      <td>No</td>\n",
       "    </tr>\n",
       "    <tr>\n",
       "      <th>4</th>\n",
       "      <td>8.841186e+12</td>\n",
       "      <td>5642494</td>\n",
       "      <td>F</td>\n",
       "      <td>2016-04-29T16:07:23Z</td>\n",
       "      <td>2016-04-29T00:00:00Z</td>\n",
       "      <td>56</td>\n",
       "      <td>JARDIM DA PENHA</td>\n",
       "      <td>0</td>\n",
       "      <td>1</td>\n",
       "      <td>1</td>\n",
       "      <td>0</td>\n",
       "      <td>0</td>\n",
       "      <td>0</td>\n",
       "      <td>No</td>\n",
       "    </tr>\n",
       "  </tbody>\n",
       "</table>\n",
       "</div>"
      ],
      "text/plain": [
       "      PatientId  AppointmentID Gender          ScheduledDay  \\\n",
       "0  2.987250e+13        5642903      F  2016-04-29T18:38:08Z   \n",
       "1  5.589978e+14        5642503      M  2016-04-29T16:08:27Z   \n",
       "2  4.262962e+12        5642549      F  2016-04-29T16:19:04Z   \n",
       "3  8.679512e+11        5642828      F  2016-04-29T17:29:31Z   \n",
       "4  8.841186e+12        5642494      F  2016-04-29T16:07:23Z   \n",
       "\n",
       "         AppointmentDay  Age      Neighbourhood  Scholarship  Hipertension  \\\n",
       "0  2016-04-29T00:00:00Z   62    JARDIM DA PENHA            0             1   \n",
       "1  2016-04-29T00:00:00Z   56    JARDIM DA PENHA            0             0   \n",
       "2  2016-04-29T00:00:00Z   62      MATA DA PRAIA            0             0   \n",
       "3  2016-04-29T00:00:00Z    8  PONTAL DE CAMBURI            0             0   \n",
       "4  2016-04-29T00:00:00Z   56    JARDIM DA PENHA            0             1   \n",
       "\n",
       "   Diabetes  Alcoholism  Handcap  SMS_received No-show  \n",
       "0         0           0        0             0      No  \n",
       "1         0           0        0             0      No  \n",
       "2         0           0        0             0      No  \n",
       "3         0           0        0             0      No  \n",
       "4         1           0        0             0      No  "
      ]
     },
     "execution_count": 91,
     "metadata": {},
     "output_type": "execute_result"
    }
   ],
   "source": [
    "# Load your data and print out a few lines. Perform operations to inspect data\n",
    "df=pd.read_csv('noshowappointments-kagglev2-may-2016.csv')\n",
    "#   types and look for instances of missing or possibly errant data.\n",
    "df.head()"
   ]
  },
  {
   "cell_type": "code",
   "execution_count": 92,
   "metadata": {},
   "outputs": [
    {
     "name": "stdout",
     "output_type": "stream",
     "text": [
      "<class 'pandas.core.frame.DataFrame'>\n",
      "RangeIndex: 110527 entries, 0 to 110526\n",
      "Data columns (total 14 columns):\n",
      " #   Column          Non-Null Count   Dtype  \n",
      "---  ------          --------------   -----  \n",
      " 0   PatientId       110527 non-null  float64\n",
      " 1   AppointmentID   110527 non-null  int64  \n",
      " 2   Gender          110527 non-null  object \n",
      " 3   ScheduledDay    110527 non-null  object \n",
      " 4   AppointmentDay  110527 non-null  object \n",
      " 5   Age             110527 non-null  int64  \n",
      " 6   Neighbourhood   110527 non-null  object \n",
      " 7   Scholarship     110527 non-null  int64  \n",
      " 8   Hipertension    110527 non-null  int64  \n",
      " 9   Diabetes        110527 non-null  int64  \n",
      " 10  Alcoholism      110527 non-null  int64  \n",
      " 11  Handcap         110527 non-null  int64  \n",
      " 12  SMS_received    110527 non-null  int64  \n",
      " 13  No-show         110527 non-null  object \n",
      "dtypes: float64(1), int64(8), object(5)\n",
      "memory usage: 11.8+ MB\n"
     ]
    }
   ],
   "source": [
    "#Check the data types of my features\n",
    "df.info()"
   ]
  },
  {
   "cell_type": "code",
   "execution_count": 93,
   "metadata": {},
   "outputs": [],
   "source": [
    "#renaming the No-Show column to make it convenient for access\n",
    "df=df.rename(columns={'No-show':'No_show'})"
   ]
  },
  {
   "cell_type": "code",
   "execution_count": 94,
   "metadata": {},
   "outputs": [
    {
     "name": "stdout",
     "output_type": "stream",
     "text": [
      "<class 'pandas.core.frame.DataFrame'>\n",
      "RangeIndex: 110527 entries, 0 to 110526\n",
      "Data columns (total 14 columns):\n",
      " #   Column          Non-Null Count   Dtype  \n",
      "---  ------          --------------   -----  \n",
      " 0   PatientId       110527 non-null  float64\n",
      " 1   AppointmentID   110527 non-null  int64  \n",
      " 2   Gender          110527 non-null  object \n",
      " 3   ScheduledDay    110527 non-null  object \n",
      " 4   AppointmentDay  110527 non-null  object \n",
      " 5   Age             110527 non-null  int64  \n",
      " 6   Neighbourhood   110527 non-null  object \n",
      " 7   Scholarship     110527 non-null  int64  \n",
      " 8   Hipertension    110527 non-null  int64  \n",
      " 9   Diabetes        110527 non-null  int64  \n",
      " 10  Alcoholism      110527 non-null  int64  \n",
      " 11  Handcap         110527 non-null  int64  \n",
      " 12  SMS_received    110527 non-null  int64  \n",
      " 13  No_show         110527 non-null  object \n",
      "dtypes: float64(1), int64(8), object(5)\n",
      "memory usage: 11.8+ MB\n"
     ]
    }
   ],
   "source": [
    "#Remove the time included in the date since it was the same and redundant\n",
    "df['AppointmentDay']=pd.to_datetime(df['AppointmentDay']).dt.date\n",
    "df.info()"
   ]
  },
  {
   "cell_type": "code",
   "execution_count": 95,
   "metadata": {},
   "outputs": [
    {
     "name": "stdout",
     "output_type": "stream",
     "text": [
      "<class 'pandas.core.frame.DataFrame'>\n",
      "RangeIndex: 110527 entries, 0 to 110526\n",
      "Data columns (total 14 columns):\n",
      " #   Column          Non-Null Count   Dtype         \n",
      "---  ------          --------------   -----         \n",
      " 0   PatientId       110527 non-null  float64       \n",
      " 1   AppointmentID   110527 non-null  int64         \n",
      " 2   Gender          110527 non-null  object        \n",
      " 3   ScheduledDay    110527 non-null  object        \n",
      " 4   AppointmentDay  110527 non-null  datetime64[ns]\n",
      " 5   Age             110527 non-null  int64         \n",
      " 6   Neighbourhood   110527 non-null  object        \n",
      " 7   Scholarship     110527 non-null  int64         \n",
      " 8   Hipertension    110527 non-null  int64         \n",
      " 9   Diabetes        110527 non-null  int64         \n",
      " 10  Alcoholism      110527 non-null  int64         \n",
      " 11  Handcap         110527 non-null  int64         \n",
      " 12  SMS_received    110527 non-null  int64         \n",
      " 13  No_show         110527 non-null  object        \n",
      "dtypes: datetime64[ns](1), float64(1), int64(8), object(4)\n",
      "memory usage: 11.8+ MB\n"
     ]
    }
   ],
   "source": [
    "#Using pd.to_datetime to convert the date from object to datetime data type\n",
    "df['AppointmentDay']=pd.to_datetime(df['AppointmentDay'])\n",
    "df.info()"
   ]
  },
  {
   "cell_type": "code",
   "execution_count": 96,
   "metadata": {},
   "outputs": [
    {
     "data": {
      "text/plain": [
       "(110527, 14)"
      ]
     },
     "execution_count": 96,
     "metadata": {},
     "output_type": "execute_result"
    }
   ],
   "source": [
    "#Determining the number of people in the data and number of info about each person\n",
    "df.shape\n"
   ]
  },
  {
   "cell_type": "code",
   "execution_count": 97,
   "metadata": {},
   "outputs": [
    {
     "data": {
      "text/plain": [
       "PatientId         0\n",
       "AppointmentID     0\n",
       "Gender            0\n",
       "ScheduledDay      0\n",
       "AppointmentDay    0\n",
       "Age               0\n",
       "Neighbourhood     0\n",
       "Scholarship       0\n",
       "Hipertension      0\n",
       "Diabetes          0\n",
       "Alcoholism        0\n",
       "Handcap           0\n",
       "SMS_received      0\n",
       "No_show           0\n",
       "dtype: int64"
      ]
     },
     "execution_count": 97,
     "metadata": {},
     "output_type": "execute_result"
    }
   ],
   "source": [
    "#Checking for missing values since they affect the result\n",
    "df.isnull().sum()"
   ]
  },
  {
   "cell_type": "code",
   "execution_count": 98,
   "metadata": {},
   "outputs": [
    {
     "data": {
      "text/plain": [
       "PatientId          62299\n",
       "AppointmentID     110527\n",
       "Gender                 2\n",
       "ScheduledDay      103549\n",
       "AppointmentDay        27\n",
       "Age                  104\n",
       "Neighbourhood         81\n",
       "Scholarship            2\n",
       "Hipertension           2\n",
       "Diabetes               2\n",
       "Alcoholism             2\n",
       "Handcap                5\n",
       "SMS_received           2\n",
       "No_show                2\n",
       "dtype: int64"
      ]
     },
     "execution_count": 98,
     "metadata": {},
     "output_type": "execute_result"
    }
   ],
   "source": [
    "#Determing the number of unique variables of each feature in the dataframe. \n",
    "#Helps to know which features are important to my analysis\n",
    "df.nunique()"
   ]
  },
  {
   "cell_type": "code",
   "execution_count": 99,
   "metadata": {},
   "outputs": [],
   "source": [
    "#Deleting column that are not useful for my analysis\n",
    "df.drop(columns=['PatientId', 'AppointmentID','ScheduledDay'], axis=1, inplace= True)\n"
   ]
  },
  {
   "cell_type": "code",
   "execution_count": 100,
   "metadata": {},
   "outputs": [
    {
     "data": {
      "text/html": [
       "<div>\n",
       "<style scoped>\n",
       "    .dataframe tbody tr th:only-of-type {\n",
       "        vertical-align: middle;\n",
       "    }\n",
       "\n",
       "    .dataframe tbody tr th {\n",
       "        vertical-align: top;\n",
       "    }\n",
       "\n",
       "    .dataframe thead th {\n",
       "        text-align: right;\n",
       "    }\n",
       "</style>\n",
       "<table border=\"1\" class=\"dataframe\">\n",
       "  <thead>\n",
       "    <tr style=\"text-align: right;\">\n",
       "      <th></th>\n",
       "      <th>Gender</th>\n",
       "      <th>AppointmentDay</th>\n",
       "      <th>Age</th>\n",
       "      <th>Neighbourhood</th>\n",
       "      <th>Scholarship</th>\n",
       "      <th>Hipertension</th>\n",
       "      <th>Diabetes</th>\n",
       "      <th>Alcoholism</th>\n",
       "      <th>Handcap</th>\n",
       "      <th>SMS_received</th>\n",
       "      <th>No_show</th>\n",
       "    </tr>\n",
       "  </thead>\n",
       "  <tbody>\n",
       "    <tr>\n",
       "      <th>0</th>\n",
       "      <td>F</td>\n",
       "      <td>2016-04-29</td>\n",
       "      <td>62</td>\n",
       "      <td>JARDIM DA PENHA</td>\n",
       "      <td>0</td>\n",
       "      <td>1</td>\n",
       "      <td>0</td>\n",
       "      <td>0</td>\n",
       "      <td>0</td>\n",
       "      <td>0</td>\n",
       "      <td>No</td>\n",
       "    </tr>\n",
       "    <tr>\n",
       "      <th>1</th>\n",
       "      <td>M</td>\n",
       "      <td>2016-04-29</td>\n",
       "      <td>56</td>\n",
       "      <td>JARDIM DA PENHA</td>\n",
       "      <td>0</td>\n",
       "      <td>0</td>\n",
       "      <td>0</td>\n",
       "      <td>0</td>\n",
       "      <td>0</td>\n",
       "      <td>0</td>\n",
       "      <td>No</td>\n",
       "    </tr>\n",
       "    <tr>\n",
       "      <th>2</th>\n",
       "      <td>F</td>\n",
       "      <td>2016-04-29</td>\n",
       "      <td>62</td>\n",
       "      <td>MATA DA PRAIA</td>\n",
       "      <td>0</td>\n",
       "      <td>0</td>\n",
       "      <td>0</td>\n",
       "      <td>0</td>\n",
       "      <td>0</td>\n",
       "      <td>0</td>\n",
       "      <td>No</td>\n",
       "    </tr>\n",
       "    <tr>\n",
       "      <th>3</th>\n",
       "      <td>F</td>\n",
       "      <td>2016-04-29</td>\n",
       "      <td>8</td>\n",
       "      <td>PONTAL DE CAMBURI</td>\n",
       "      <td>0</td>\n",
       "      <td>0</td>\n",
       "      <td>0</td>\n",
       "      <td>0</td>\n",
       "      <td>0</td>\n",
       "      <td>0</td>\n",
       "      <td>No</td>\n",
       "    </tr>\n",
       "    <tr>\n",
       "      <th>4</th>\n",
       "      <td>F</td>\n",
       "      <td>2016-04-29</td>\n",
       "      <td>56</td>\n",
       "      <td>JARDIM DA PENHA</td>\n",
       "      <td>0</td>\n",
       "      <td>1</td>\n",
       "      <td>1</td>\n",
       "      <td>0</td>\n",
       "      <td>0</td>\n",
       "      <td>0</td>\n",
       "      <td>No</td>\n",
       "    </tr>\n",
       "  </tbody>\n",
       "</table>\n",
       "</div>"
      ],
      "text/plain": [
       "  Gender AppointmentDay  Age      Neighbourhood  Scholarship  Hipertension  \\\n",
       "0      F     2016-04-29   62    JARDIM DA PENHA            0             1   \n",
       "1      M     2016-04-29   56    JARDIM DA PENHA            0             0   \n",
       "2      F     2016-04-29   62      MATA DA PRAIA            0             0   \n",
       "3      F     2016-04-29    8  PONTAL DE CAMBURI            0             0   \n",
       "4      F     2016-04-29   56    JARDIM DA PENHA            0             1   \n",
       "\n",
       "   Diabetes  Alcoholism  Handcap  SMS_received No_show  \n",
       "0         0           0        0             0      No  \n",
       "1         0           0        0             0      No  \n",
       "2         0           0        0             0      No  \n",
       "3         0           0        0             0      No  \n",
       "4         1           0        0             0      No  "
      ]
     },
     "execution_count": 100,
     "metadata": {},
     "output_type": "execute_result"
    }
   ],
   "source": [
    "df.head()"
   ]
  },
  {
   "cell_type": "code",
   "execution_count": 101,
   "metadata": {},
   "outputs": [
    {
     "data": {
      "text/plain": [
       "15375"
      ]
     },
     "execution_count": 101,
     "metadata": {},
     "output_type": "execute_result"
    }
   ],
   "source": [
    "#Check to see how many row are duplicated\n",
    "df.duplicated().sum()\n",
    "#len(df)-len(df.drop_duplicates())"
   ]
  },
  {
   "cell_type": "code",
   "execution_count": 102,
   "metadata": {},
   "outputs": [],
   "source": [
    "#Drop all the duplicates since it is redundunt\n",
    "df=df.drop_duplicates()"
   ]
  },
  {
   "cell_type": "code",
   "execution_count": 103,
   "metadata": {},
   "outputs": [
    {
     "name": "stdout",
     "output_type": "stream",
     "text": [
      "<class 'pandas.core.frame.DataFrame'>\n",
      "Int64Index: 95152 entries, 0 to 110525\n",
      "Data columns (total 11 columns):\n",
      " #   Column          Non-Null Count  Dtype         \n",
      "---  ------          --------------  -----         \n",
      " 0   Gender          95152 non-null  object        \n",
      " 1   AppointmentDay  95152 non-null  datetime64[ns]\n",
      " 2   Age             95152 non-null  int64         \n",
      " 3   Neighbourhood   95152 non-null  object        \n",
      " 4   Scholarship     95152 non-null  int64         \n",
      " 5   Hipertension    95152 non-null  int64         \n",
      " 6   Diabetes        95152 non-null  int64         \n",
      " 7   Alcoholism      95152 non-null  int64         \n",
      " 8   Handcap         95152 non-null  int64         \n",
      " 9   SMS_received    95152 non-null  int64         \n",
      " 10  No_show         95152 non-null  object        \n",
      "dtypes: datetime64[ns](1), int64(7), object(3)\n",
      "memory usage: 8.7+ MB\n"
     ]
    }
   ],
   "source": [
    "#Checking to see if duplicated have been dropped\n",
    "df.info()"
   ]
  },
  {
   "cell_type": "code",
   "execution_count": 104,
   "metadata": {},
   "outputs": [
    {
     "data": {
      "text/html": [
       "<div>\n",
       "<style scoped>\n",
       "    .dataframe tbody tr th:only-of-type {\n",
       "        vertical-align: middle;\n",
       "    }\n",
       "\n",
       "    .dataframe tbody tr th {\n",
       "        vertical-align: top;\n",
       "    }\n",
       "\n",
       "    .dataframe thead th {\n",
       "        text-align: right;\n",
       "    }\n",
       "</style>\n",
       "<table border=\"1\" class=\"dataframe\">\n",
       "  <thead>\n",
       "    <tr style=\"text-align: right;\">\n",
       "      <th></th>\n",
       "      <th>Age</th>\n",
       "      <th>Scholarship</th>\n",
       "      <th>Hipertension</th>\n",
       "      <th>Diabetes</th>\n",
       "      <th>Alcoholism</th>\n",
       "      <th>Handcap</th>\n",
       "      <th>SMS_received</th>\n",
       "    </tr>\n",
       "  </thead>\n",
       "  <tbody>\n",
       "    <tr>\n",
       "      <th>count</th>\n",
       "      <td>95152.000000</td>\n",
       "      <td>95152.000000</td>\n",
       "      <td>95152.000000</td>\n",
       "      <td>95152.000000</td>\n",
       "      <td>95152.000000</td>\n",
       "      <td>95152.000000</td>\n",
       "      <td>95152.000000</td>\n",
       "    </tr>\n",
       "    <tr>\n",
       "      <th>mean</th>\n",
       "      <td>37.949723</td>\n",
       "      <td>0.105936</td>\n",
       "      <td>0.215119</td>\n",
       "      <td>0.079410</td>\n",
       "      <td>0.030677</td>\n",
       "      <td>0.024098</td>\n",
       "      <td>0.344197</td>\n",
       "    </tr>\n",
       "    <tr>\n",
       "      <th>std</th>\n",
       "      <td>23.058085</td>\n",
       "      <td>0.307757</td>\n",
       "      <td>0.410907</td>\n",
       "      <td>0.270379</td>\n",
       "      <td>0.172443</td>\n",
       "      <td>0.167944</td>\n",
       "      <td>0.475108</td>\n",
       "    </tr>\n",
       "    <tr>\n",
       "      <th>min</th>\n",
       "      <td>-1.000000</td>\n",
       "      <td>0.000000</td>\n",
       "      <td>0.000000</td>\n",
       "      <td>0.000000</td>\n",
       "      <td>0.000000</td>\n",
       "      <td>0.000000</td>\n",
       "      <td>0.000000</td>\n",
       "    </tr>\n",
       "    <tr>\n",
       "      <th>25%</th>\n",
       "      <td>19.000000</td>\n",
       "      <td>0.000000</td>\n",
       "      <td>0.000000</td>\n",
       "      <td>0.000000</td>\n",
       "      <td>0.000000</td>\n",
       "      <td>0.000000</td>\n",
       "      <td>0.000000</td>\n",
       "    </tr>\n",
       "    <tr>\n",
       "      <th>50%</th>\n",
       "      <td>38.000000</td>\n",
       "      <td>0.000000</td>\n",
       "      <td>0.000000</td>\n",
       "      <td>0.000000</td>\n",
       "      <td>0.000000</td>\n",
       "      <td>0.000000</td>\n",
       "      <td>0.000000</td>\n",
       "    </tr>\n",
       "    <tr>\n",
       "      <th>75%</th>\n",
       "      <td>56.000000</td>\n",
       "      <td>0.000000</td>\n",
       "      <td>0.000000</td>\n",
       "      <td>0.000000</td>\n",
       "      <td>0.000000</td>\n",
       "      <td>0.000000</td>\n",
       "      <td>1.000000</td>\n",
       "    </tr>\n",
       "    <tr>\n",
       "      <th>max</th>\n",
       "      <td>115.000000</td>\n",
       "      <td>1.000000</td>\n",
       "      <td>1.000000</td>\n",
       "      <td>1.000000</td>\n",
       "      <td>1.000000</td>\n",
       "      <td>4.000000</td>\n",
       "      <td>1.000000</td>\n",
       "    </tr>\n",
       "  </tbody>\n",
       "</table>\n",
       "</div>"
      ],
      "text/plain": [
       "                Age   Scholarship  Hipertension      Diabetes    Alcoholism  \\\n",
       "count  95152.000000  95152.000000  95152.000000  95152.000000  95152.000000   \n",
       "mean      37.949723      0.105936      0.215119      0.079410      0.030677   \n",
       "std       23.058085      0.307757      0.410907      0.270379      0.172443   \n",
       "min       -1.000000      0.000000      0.000000      0.000000      0.000000   \n",
       "25%       19.000000      0.000000      0.000000      0.000000      0.000000   \n",
       "50%       38.000000      0.000000      0.000000      0.000000      0.000000   \n",
       "75%       56.000000      0.000000      0.000000      0.000000      0.000000   \n",
       "max      115.000000      1.000000      1.000000      1.000000      1.000000   \n",
       "\n",
       "            Handcap  SMS_received  \n",
       "count  95152.000000  95152.000000  \n",
       "mean       0.024098      0.344197  \n",
       "std        0.167944      0.475108  \n",
       "min        0.000000      0.000000  \n",
       "25%        0.000000      0.000000  \n",
       "50%        0.000000      0.000000  \n",
       "75%        0.000000      1.000000  \n",
       "max        4.000000      1.000000  "
      ]
     },
     "execution_count": 104,
     "metadata": {},
     "output_type": "execute_result"
    }
   ],
   "source": [
    "#Get Statistics description of the data\n",
    "df.describe()"
   ]
  },
  {
   "cell_type": "code",
   "execution_count": 105,
   "metadata": {},
   "outputs": [],
   "source": [
    "#Delete rows with age = -1 since a person cannot be -1 years old\n",
    "df = df[df.Age != -1]"
   ]
  },
  {
   "cell_type": "code",
   "execution_count": 106,
   "metadata": {},
   "outputs": [
    {
     "data": {
      "image/png": "[encoded data removed]",
      "text/plain": [
       "<Figure size 720x576 with 9 Axes>"
      ]
     },
     "metadata": {
      "needs_background": "light"
     },
     "output_type": "display_data"
    }
   ],
   "source": [
    "#df.info()\n",
    "#Histogram figure of the data features\n",
    "df.hist(figsize=(10,8));"
   ]
  },
  {
   "cell_type": "code",
   "execution_count": null,
   "metadata": {},
   "outputs": [],
   "source": []
  },
  {
   "cell_type": "code",
   "execution_count": null,
   "metadata": {},
   "outputs": [],
   "source": []
  },
  {
   "cell_type": "markdown",
   "metadata": {},
   "source": [
    "<a id='eda'></a>\n",
    "## Exploratory Data Analysis\n",
    "\n",
    "Computing statistics and creating visualizations with the goal of addressing the research questions that I posed in the introduction section."
   ]
  },
  {
   "cell_type": "code",
   "execution_count": 107,
   "metadata": {},
   "outputs": [],
   "source": [
    "#Labelled 'No' in the show up column as Show_up and 'Yes' in the show up column as No_Show_up and\n",
    "show_up=df.No_show == 'No'\n",
    "No_show_up=df.No_show == 'Yes'"
   ]
  },
  {
   "cell_type": "code",
   "execution_count": 108,
   "metadata": {},
   "outputs": [
    {
     "data": {
      "text/plain": [
       "No     74458\n",
       "Yes    20693\n",
       "Name: No_show, dtype: int64"
      ]
     },
     "execution_count": 108,
     "metadata": {},
     "output_type": "execute_result"
    }
   ],
   "source": [
    "#Count of people who showed up(N0) and people who did not show up(Yes)\n",
    "df.No_show.value_counts()"
   ]
  },
  {
   "cell_type": "code",
   "execution_count": 109,
   "metadata": {},
   "outputs": [
    {
     "data": {
      "image/png": "[encoded data removed]",
      "text/plain": [
       "<Figure size 432x288 with 1 Axes>"
      ]
     },
     "metadata": {
      "needs_background": "light"
     },
     "output_type": "display_data"
    }
   ],
   "source": [
    "#Histogram plot for patients who showed up and patients who did not show up\n",
    "df.No_show[show_up].hist(alpha=0.5, bins=1, color='green' ,label='show_up')\n",
    "df.No_show[No_show_up].hist(alpha=0.5, bins=1, color='yellow', label='No_show_up')\n",
    "plt.legend();"
   ]
  },
  {
   "cell_type": "markdown",
   "metadata": {},
   "source": [
    "It appears 74458 patients showed up for their scheduled appointment out of 95152 patients being investigated"
   ]
  },
  {
   "cell_type": "markdown",
   "metadata": {},
   "source": []
  },
  {
   "cell_type": "markdown",
   "metadata": {},
   "source": [
    "### Research Question 1 (Does the day of the week appointment was scheduled for influence  show up?)"
   ]
  },
  {
   "cell_type": "code",
   "execution_count": 110,
   "metadata": {},
   "outputs": [],
   "source": [
    "#Creating a column for day of the week\n",
    "df['day_of_week'] = df['AppointmentDay'].dt.dayofweek"
   ]
  },
  {
   "cell_type": "code",
   "execution_count": 111,
   "metadata": {},
   "outputs": [
    {
     "data": {
      "text/html": [
       "<div>\n",
       "<style scoped>\n",
       "    .dataframe tbody tr th:only-of-type {\n",
       "        vertical-align: middle;\n",
       "    }\n",
       "\n",
       "    .dataframe tbody tr th {\n",
       "        vertical-align: top;\n",
       "    }\n",
       "\n",
       "    .dataframe thead th {\n",
       "        text-align: right;\n",
       "    }\n",
       "</style>\n",
       "<table border=\"1\" class=\"dataframe\">\n",
       "  <thead>\n",
       "    <tr style=\"text-align: right;\">\n",
       "      <th></th>\n",
       "      <th>Gender</th>\n",
       "      <th>AppointmentDay</th>\n",
       "      <th>Age</th>\n",
       "      <th>Neighbourhood</th>\n",
       "      <th>Scholarship</th>\n",
       "      <th>Hipertension</th>\n",
       "      <th>Diabetes</th>\n",
       "      <th>Alcoholism</th>\n",
       "      <th>Handcap</th>\n",
       "      <th>SMS_received</th>\n",
       "      <th>No_show</th>\n",
       "      <th>day_of_week</th>\n",
       "    </tr>\n",
       "  </thead>\n",
       "  <tbody>\n",
       "    <tr>\n",
       "      <th>0</th>\n",
       "      <td>F</td>\n",
       "      <td>2016-04-29</td>\n",
       "      <td>62</td>\n",
       "      <td>JARDIM DA PENHA</td>\n",
       "      <td>0</td>\n",
       "      <td>1</td>\n",
       "      <td>0</td>\n",
       "      <td>0</td>\n",
       "      <td>0</td>\n",
       "      <td>0</td>\n",
       "      <td>No</td>\n",
       "      <td>4</td>\n",
       "    </tr>\n",
       "    <tr>\n",
       "      <th>1</th>\n",
       "      <td>M</td>\n",
       "      <td>2016-04-29</td>\n",
       "      <td>56</td>\n",
       "      <td>JARDIM DA PENHA</td>\n",
       "      <td>0</td>\n",
       "      <td>0</td>\n",
       "      <td>0</td>\n",
       "      <td>0</td>\n",
       "      <td>0</td>\n",
       "      <td>0</td>\n",
       "      <td>No</td>\n",
       "      <td>4</td>\n",
       "    </tr>\n",
       "    <tr>\n",
       "      <th>2</th>\n",
       "      <td>F</td>\n",
       "      <td>2016-04-29</td>\n",
       "      <td>62</td>\n",
       "      <td>MATA DA PRAIA</td>\n",
       "      <td>0</td>\n",
       "      <td>0</td>\n",
       "      <td>0</td>\n",
       "      <td>0</td>\n",
       "      <td>0</td>\n",
       "      <td>0</td>\n",
       "      <td>No</td>\n",
       "      <td>4</td>\n",
       "    </tr>\n",
       "    <tr>\n",
       "      <th>3</th>\n",
       "      <td>F</td>\n",
       "      <td>2016-04-29</td>\n",
       "      <td>8</td>\n",
       "      <td>PONTAL DE CAMBURI</td>\n",
       "      <td>0</td>\n",
       "      <td>0</td>\n",
       "      <td>0</td>\n",
       "      <td>0</td>\n",
       "      <td>0</td>\n",
       "      <td>0</td>\n",
       "      <td>No</td>\n",
       "      <td>4</td>\n",
       "    </tr>\n",
       "    <tr>\n",
       "      <th>4</th>\n",
       "      <td>F</td>\n",
       "      <td>2016-04-29</td>\n",
       "      <td>56</td>\n",
       "      <td>JARDIM DA PENHA</td>\n",
       "      <td>0</td>\n",
       "      <td>1</td>\n",
       "      <td>1</td>\n",
       "      <td>0</td>\n",
       "      <td>0</td>\n",
       "      <td>0</td>\n",
       "      <td>No</td>\n",
       "      <td>4</td>\n",
       "    </tr>\n",
       "  </tbody>\n",
       "</table>\n",
       "</div>"
      ],
      "text/plain": [
       "  Gender AppointmentDay  Age      Neighbourhood  Scholarship  Hipertension  \\\n",
       "0      F     2016-04-29   62    JARDIM DA PENHA            0             1   \n",
       "1      M     2016-04-29   56    JARDIM DA PENHA            0             0   \n",
       "2      F     2016-04-29   62      MATA DA PRAIA            0             0   \n",
       "3      F     2016-04-29    8  PONTAL DE CAMBURI            0             0   \n",
       "4      F     2016-04-29   56    JARDIM DA PENHA            0             1   \n",
       "\n",
       "   Diabetes  Alcoholism  Handcap  SMS_received No_show  day_of_week  \n",
       "0         0           0        0             0      No            4  \n",
       "1         0           0        0             0      No            4  \n",
       "2         0           0        0             0      No            4  \n",
       "3         0           0        0             0      No            4  \n",
       "4         1           0        0             0      No            4  "
      ]
     },
     "execution_count": 111,
     "metadata": {},
     "output_type": "execute_result"
    }
   ],
   "source": [
    "df.head()"
   ]
  },
  {
   "cell_type": "code",
   "execution_count": 112,
   "metadata": {},
   "outputs": [
    {
     "data": {
      "text/plain": [
       "6"
      ]
     },
     "execution_count": 112,
     "metadata": {},
     "output_type": "execute_result"
    }
   ],
   "source": [
    "#Finding number of unique days of the week\n",
    "df.day_of_week.nunique()"
   ]
  },
  {
   "cell_type": "code",
   "execution_count": 113,
   "metadata": {},
   "outputs": [
    {
     "data": {
      "text/plain": [
       "No_show  day_of_week\n",
       "No       0              14904\n",
       "         1              17563\n",
       "         2              17614\n",
       "         3              11789\n",
       "         4              12558\n",
       "         5                 30\n",
       "Yes      0               4311\n",
       "         1               4807\n",
       "         2               4744\n",
       "         3               3115\n",
       "         4               3707\n",
       "         5                  9\n",
       "Name: day_of_week, dtype: int64"
      ]
     },
     "execution_count": 113,
     "metadata": {},
     "output_type": "execute_result"
    }
   ],
   "source": [
    "#Counting the number of patient who showed up or did not show up based on day of the week\n",
    "Show_day_counts=df.groupby('No_show')['day_of_week'].value_counts(sort=False)\n",
    "Show_day_counts"
   ]
  },
  {
   "cell_type": "code",
   "execution_count": 114,
   "metadata": {},
   "outputs": [],
   "source": [
    "#df.AppointmentDay[No_show_up].value_counts()"
   ]
  },
  {
   "cell_type": "code",
   "execution_count": 115,
   "metadata": {},
   "outputs": [
    {
     "data": {
      "text/plain": [
       "Text(0, 0.5, 'Number Show up / No show')"
      ]
     },
     "execution_count": 115,
     "metadata": {},
     "output_type": "execute_result"
    },
    {
     "data": {
      "image/png": "[encoded data removed]",
      "text/plain": [
       "<Figure size 432x288 with 1 Axes>"
      ]
     },
     "metadata": {
      "needs_background": "light"
     },
     "output_type": "display_data"
    }
   ],
   "source": [
    "#plot of Day of the week received against Show up\n",
    "df.day_of_week[show_up].value_counts().plot(kind='bar',alpha=0.5, color= 'green', label='show_up')\n",
    "df.day_of_week[No_show_up].value_counts().plot(kind='bar',alpha=0.5, color= 'yellow', label='No_show_up')\n",
    "plt.legend();\n",
    "plt.xlabel('Day of the week')\n",
    "plt.ylabel('Number Show up / No show')"
   ]
  },
  {
   "cell_type": "markdown",
   "metadata": {},
   "source": [
    "From the visualization above, it appears most appointments are scheduled for Tuesday and Wednesday"
   ]
  },
  {
   "cell_type": "code",
   "execution_count": 116,
   "metadata": {},
   "outputs": [
    {
     "data": {
      "text/plain": [
       "No_show\n",
       "No     74458\n",
       "Yes    20693\n",
       "Name: Age, dtype: int64"
      ]
     },
     "execution_count": 116,
     "metadata": {},
     "output_type": "execute_result"
    }
   ],
   "source": [
    "# get total counts for each No Show\n",
    "Show_totals = df.groupby('No_show').count()['Age']\n",
    "Show_totals"
   ]
  },
  {
   "cell_type": "code",
   "execution_count": null,
   "metadata": {},
   "outputs": [],
   "source": []
  },
  {
   "cell_type": "code",
   "execution_count": 117,
   "metadata": {},
   "outputs": [
    {
     "data": {
      "text/plain": [
       "day_of_week\n",
       "0    0.200167\n",
       "1    0.235878\n",
       "2    0.236563\n",
       "3    0.158331\n",
       "4    0.168659\n",
       "5    0.000403\n",
       "Name: day_of_week, dtype: float64"
      ]
     },
     "execution_count": 117,
     "metadata": {},
     "output_type": "execute_result"
    }
   ],
   "source": [
    "# get proportions by dividing patients who showed(day of week) counts by total # of No samples in the No Show column\n",
    "No_day_proportions = Show_day_counts['No'] / Show_totals['No']\n",
    "No_day_proportions"
   ]
  },
  {
   "cell_type": "code",
   "execution_count": null,
   "metadata": {},
   "outputs": [],
   "source": []
  },
  {
   "cell_type": "code",
   "execution_count": 118,
   "metadata": {},
   "outputs": [
    {
     "data": {
      "text/plain": [
       "day_of_week\n",
       "0    0.208331\n",
       "1    0.232301\n",
       "2    0.229256\n",
       "3    0.150534\n",
       "4    0.179143\n",
       "5    0.000435\n",
       "Name: day_of_week, dtype: float64"
      ]
     },
     "execution_count": 118,
     "metadata": {},
     "output_type": "execute_result"
    }
   ],
   "source": [
    "# get proportions by dividing patients who did not show(day of week) counts by total # of No samples in the Yes Show column\n",
    "Yes_day_proportions = Show_day_counts['Yes'] / Show_totals['Yes']\n",
    "Yes_day_proportions"
   ]
  },
  {
   "cell_type": "code",
   "execution_count": 119,
   "metadata": {},
   "outputs": [],
   "source": []
  },
  {
   "cell_type": "code",
   "execution_count": 137,
   "metadata": {},
   "outputs": [],
   "source": [
    "#Creating a function the number of location on the x axis for each group\n",
    "def Num_x_loc(proportions):\n",
    "    ind = np.arange(len(proportions))\n",
    "    return ind"
   ]
  },
  {
   "cell_type": "code",
   "execution_count": 138,
   "metadata": {},
   "outputs": [
    {
     "data": {
      "image/png": "[encoded data removed]",
      "text/plain": [
       "<Figure size 432x288 with 1 Axes>"
      ]
     },
     "metadata": {
      "needs_background": "light"
     },
     "output_type": "display_data"
    }
   ],
   "source": [
    "# plot of proportion on bar chart\n",
    "No_day_bars = plt.bar(Num_x_loc(No_day_proportions), No_day_proportions, width, color='g', alpha=.7, label='Show up')\n",
    "Yes_day_bars = plt.bar(Num_x_loc(No_day_proportions) + width, Yes_day_proportions, width, color='y', alpha=.7, label='No Show up')\n",
    "\n",
    "# title and labels\n",
    "plt.ylabel('Proportion')\n",
    "plt.xlabel('Day of week')\n",
    "plt.title('Proportion by No Show and Day of week')\n",
    "locations = Num_x_loc(No_day_proportions) + width / 2  # xtick locations\n",
    "labels = ['0', '1','2','3','4','5']  # xtick labels\n",
    "plt.xticks(locations, labels)\n",
    "\n",
    "# legend\n",
    "plt.legend();"
   ]
  },
  {
   "cell_type": "markdown",
   "metadata": {},
   "source": [
    "### Conclusion on Day of the week\n",
    "From analysis, it appears patients are more likely to show up for scheduled appointment on Tuesday , Wednesday and Thursday since the show higher proportion on those days as compared to Monday and Friday. There are less appointments made on Saturday. This may be due to the fact that the facility is do not open or does not take a lot of appointments on weekends."
   ]
  },
  {
   "cell_type": "markdown",
   "metadata": {},
   "source": [
    "### Research Question 2 (Does receiving SMS before scheduled appointment affect show up?)"
   ]
  },
  {
   "cell_type": "code",
   "execution_count": 125,
   "metadata": {},
   "outputs": [
    {
     "data": {
      "text/plain": [
       "74458"
      ]
     },
     "execution_count": 125,
     "metadata": {},
     "output_type": "execute_result"
    }
   ],
   "source": [
    "#Sum of patients who showed up irrespective of whether they received SMS or not\n",
    "df.SMS_received[show_up].value_counts().sum()"
   ]
  },
  {
   "cell_type": "code",
   "execution_count": 126,
   "metadata": {},
   "outputs": [
    {
     "data": {
      "text/plain": [
       "0    51059\n",
       "1    23399\n",
       "Name: SMS_received, dtype: int64"
      ]
     },
     "execution_count": 126,
     "metadata": {},
     "output_type": "execute_result"
    }
   ],
   "source": [
    "#Patients who shown up with or without receiving SMS\n",
    "df.SMS_received[show_up].value_counts()"
   ]
  },
  {
   "cell_type": "code",
   "execution_count": 127,
   "metadata": {},
   "outputs": [
    {
     "data": {
      "text/plain": [
       "20693"
      ]
     },
     "execution_count": 127,
     "metadata": {},
     "output_type": "execute_result"
    }
   ],
   "source": [
    "#Sum of Patients who do not show up with or without receiving SMS\n",
    "df.SMS_received[No_show_up].value_counts().sum()"
   ]
  },
  {
   "cell_type": "code",
   "execution_count": 128,
   "metadata": {},
   "outputs": [
    {
     "data": {
      "text/plain": [
       "0    11341\n",
       "1     9352\n",
       "Name: SMS_received, dtype: int64"
      ]
     },
     "execution_count": 128,
     "metadata": {},
     "output_type": "execute_result"
    }
   ],
   "source": [
    "#Patients who do not show up with or without receiving SMS\n",
    "df.SMS_received[No_show_up].value_counts()"
   ]
  },
  {
   "cell_type": "code",
   "execution_count": 129,
   "metadata": {},
   "outputs": [
    {
     "data": {
      "text/plain": [
       "Text(0, 0.5, 'Number Show up / No show')"
      ]
     },
     "execution_count": 129,
     "metadata": {},
     "output_type": "execute_result"
    },
    {
     "data": {
      "image/png": "[encoded data removed]",
      "text/plain": [
       "<Figure size 432x288 with 1 Axes>"
      ]
     },
     "metadata": {
      "needs_background": "light"
     },
     "output_type": "display_data"
    }
   ],
   "source": [
    "#plot of SMS received of not against Show up and No show up\n",
    "df.SMS_received[show_up].value_counts().plot(kind='bar',alpha=0.5, color= 'green', label='show_up')\n",
    "df.SMS_received[No_show_up].value_counts().plot(kind='bar',alpha=0.5, color= 'yellow', label='No_show_up')\n",
    "plt.legend();\n",
    "plt.xlabel('SMS_received')\n",
    "plt.ylabel('Number Show up / No show')"
   ]
  },
  {
   "cell_type": "markdown",
   "metadata": {},
   "source": [
    "It appears, majority of patients did not receive SMS as a reminder before their appointment. This may be due to the facility not having their contact numbers or the patients not having phones etc."
   ]
  },
  {
   "cell_type": "code",
   "execution_count": 130,
   "metadata": {},
   "outputs": [
    {
     "data": {
      "text/plain": [
       "No_show  SMS_received\n",
       "No       0               51059\n",
       "         1               23399\n",
       "Yes      0               11341\n",
       "         1                9352\n",
       "Name: Age, dtype: int64"
      ]
     },
     "execution_count": 130,
     "metadata": {},
     "output_type": "execute_result"
    }
   ],
   "source": [
    "#Counting No show and sms received\n",
    "Show_SMS_counts=df.groupby(['No_show','SMS_received']).count()['Age']\n",
    "Show_SMS_counts"
   ]
  },
  {
   "cell_type": "markdown",
   "metadata": {},
   "source": []
  },
  {
   "cell_type": "code",
   "execution_count": 131,
   "metadata": {},
   "outputs": [
    {
     "data": {
      "text/plain": [
       "SMS_received\n",
       "0    0.685742\n",
       "1    0.314258\n",
       "Name: Age, dtype: float64"
      ]
     },
     "execution_count": 131,
     "metadata": {},
     "output_type": "execute_result"
    }
   ],
   "source": [
    "# get proportions by dividing patients who showed(SMS) counts by total # of No samples in the No Show column\n",
    "No_SMS_proportions = Show_SMS_counts['No'] / Show_totals['No']\n",
    "No_SMS_proportions"
   ]
  },
  {
   "cell_type": "code",
   "execution_count": 132,
   "metadata": {},
   "outputs": [
    {
     "data": {
      "text/plain": [
       "SMS_received\n",
       "0    0.54806\n",
       "1    0.45194\n",
       "Name: Age, dtype: float64"
      ]
     },
     "execution_count": 132,
     "metadata": {},
     "output_type": "execute_result"
    }
   ],
   "source": [
    "# get proportions by dividing patients who did not show(SMS) counts by total # of No samples in the No Show column\n",
    "Yes_SMS_proportions = Show_SMS_counts['Yes'] / Show_totals['Yes']\n",
    "Yes_SMS_proportions"
   ]
  },
  {
   "cell_type": "code",
   "execution_count": 133,
   "metadata": {},
   "outputs": [],
   "source": []
  },
  {
   "cell_type": "code",
   "execution_count": 139,
   "metadata": {},
   "outputs": [
    {
     "data": {
      "image/png": "[encoded data removed]",
      "text/plain": [
       "<Figure size 432x288 with 1 Axes>"
      ]
     },
     "metadata": {
      "needs_background": "light"
     },
     "output_type": "display_data"
    }
   ],
   "source": [
    "# plot of proportion on bar chart\n",
    "No_SMS_bars = plt.bar(Num_x_loc(No_SMS_proportions), No_SMS_proportions, width, color='g', alpha=.7, label='Show up')\n",
    "Yes_SMS_bars = plt.bar(Num_x_loc(No_SMS_proportions) + width, Yes_SMS_proportions, width, color='y', alpha=.7, label='No Show up')\n",
    "\n",
    "# title and labels\n",
    "plt.ylabel('Proportion')\n",
    "plt.xlabel('SMS_received')\n",
    "plt.title('Proportion by No Show and SMS_received')\n",
    "locations = Num_x_loc(No_SMS_proportions) + width / 2  # xtick locations\n",
    "labels = ['0', '1']  # xtick labels\n",
    "plt.xticks(locations, labels)\n",
    "\n",
    "# legend\n",
    "plt.legend();"
   ]
  },
  {
   "cell_type": "markdown",
   "metadata": {},
   "source": [
    "### Conclusion on SMS received\n",
    "From analysis, it appears patients who show up for their appointment more do not even received an SMS before the scheduled appointment.\\\n",
    "On the other hand, patients who receive SMS before their scheduled appointment show up less. Therefore receiving SMS before appointment does not guarentee show up.\n"
   ]
  },
  {
   "cell_type": "markdown",
   "metadata": {},
   "source": [
    "<a id='eda'></a>\n",
    "\n",
    "### Research Question 3 (Does having a Scholarship affect Show up for appointment?)"
   ]
  },
  {
   "cell_type": "code",
   "execution_count": 141,
   "metadata": {},
   "outputs": [
    {
     "data": {
      "text/plain": [
       "0    66825\n",
       "1     7633\n",
       "Name: Scholarship, dtype: int64"
      ]
     },
     "execution_count": 141,
     "metadata": {},
     "output_type": "execute_result"
    }
   ],
   "source": [
    "#Patients who shown up with or without Scholarship\n",
    "df.Scholarship[show_up].value_counts()"
   ]
  },
  {
   "cell_type": "code",
   "execution_count": 142,
   "metadata": {},
   "outputs": [
    {
     "data": {
      "text/plain": [
       "0    18246\n",
       "1     2447\n",
       "Name: Scholarship, dtype: int64"
      ]
     },
     "execution_count": 142,
     "metadata": {},
     "output_type": "execute_result"
    }
   ],
   "source": [
    "#Patients who did not show up with or without Scholarship\n",
    "df.Scholarship[No_show_up].value_counts()"
   ]
  },
  {
   "cell_type": "code",
   "execution_count": 143,
   "metadata": {},
   "outputs": [
    {
     "data": {
      "text/plain": [
       "Text(0, 0.5, 'Number Show up / No show')"
      ]
     },
     "execution_count": 143,
     "metadata": {},
     "output_type": "execute_result"
    },
    {
     "data": {
      "image/png": "[encoded data removed]",
      "text/plain": [
       "<Figure size 432x288 with 1 Axes>"
      ]
     },
     "metadata": {
      "needs_background": "light"
     },
     "output_type": "display_data"
    }
   ],
   "source": [
    "#plot of Scholarship of not against Show up and No show up\n",
    "df.Scholarship[show_up].value_counts().plot(kind='bar',alpha=0.5, color= 'green', label='show_up')\n",
    "df.Scholarship[No_show_up].value_counts().plot(kind='bar',alpha=0.5, color= 'yellow', label='No_show_up')\n",
    "plt.legend();\n",
    "plt.xlabel('Scholarship')\n",
    "plt.ylabel('Number Show up / No show')"
   ]
  },
  {
   "cell_type": "markdown",
   "metadata": {},
   "source": [
    "From the above visualisation, only few patients had scholarships"
   ]
  },
  {
   "cell_type": "code",
   "execution_count": 145,
   "metadata": {},
   "outputs": [
    {
     "data": {
      "text/plain": [
       "No_show  Scholarship\n",
       "No       0              66825\n",
       "         1               7633\n",
       "Yes      0              18246\n",
       "         1               2447\n",
       "Name: Scholarship, dtype: int64"
      ]
     },
     "execution_count": 145,
     "metadata": {},
     "output_type": "execute_result"
    }
   ],
   "source": [
    "#Count of No show and Scholarship\n",
    "Show_Sch_counts=df.groupby('No_show')['Scholarship'].value_counts()\n",
    "Show_Sch_counts"
   ]
  },
  {
   "cell_type": "code",
   "execution_count": 146,
   "metadata": {},
   "outputs": [
    {
     "data": {
      "text/plain": [
       "Scholarship\n",
       "0    0.897486\n",
       "1    0.102514\n",
       "Name: Scholarship, dtype: float64"
      ]
     },
     "execution_count": 146,
     "metadata": {},
     "output_type": "execute_result"
    }
   ],
   "source": [
    "# get proportions by dividing patients who showed counts by total # of No samples in the No Show column\n",
    "No_Sch_proportions = Show_Sch_counts['No'] / Show_totals['No']\n",
    "No_Sch_proportions"
   ]
  },
  {
   "cell_type": "code",
   "execution_count": 147,
   "metadata": {},
   "outputs": [
    {
     "data": {
      "text/plain": [
       "Scholarship\n",
       "0    0.881747\n",
       "1    0.118253\n",
       "Name: Scholarship, dtype: float64"
      ]
     },
     "execution_count": 147,
     "metadata": {},
     "output_type": "execute_result"
    }
   ],
   "source": [
    "# get proportions by dividing patients who did not show counts by total # of No samples in the No Show column\n",
    "Yes_Sch_proportions = Show_Sch_counts['Yes'] / Show_totals['Yes']\n",
    "Yes_Sch_proportions"
   ]
  },
  {
   "cell_type": "code",
   "execution_count": 616,
   "metadata": {},
   "outputs": [],
   "source": [
    "ind = np.arange(len(No_Sch_proportions))  # the x locations for the groups\n",
    "width = 0.35       # the width of the bars"
   ]
  },
  {
   "cell_type": "code",
   "execution_count": 148,
   "metadata": {},
   "outputs": [
    {
     "data": {
      "image/png": "[encoded data removed]",
      "text/plain": [
       "<Figure size 432x288 with 1 Axes>"
      ]
     },
     "metadata": {
      "needs_background": "light"
     },
     "output_type": "display_data"
    }
   ],
   "source": [
    "# plot of proportion on bar chart\n",
    "No_Sch_bars = plt.bar(Num_x_loc(No_Sch_proportions), No_Sch_proportions, width, color='g', alpha=.7, label='Show up')\n",
    "Yes_Sch_bars = plt.bar(Num_x_loc(No_Sch_proportions) + width, Yes_Sch_proportions, width, color='y', alpha=.7, label='No Show up')\n",
    "\n",
    "# title and labels\n",
    "plt.ylabel('Proportion')\n",
    "plt.xlabel('Scholarship')\n",
    "plt.title('Proportion by No Show and Scholarship')\n",
    "locations = Num_x_loc(No_Sch_proportions) + width / 2  # xtick locations\n",
    "labels = ['0', '1']  # xtick labels\n",
    "plt.xticks(locations, labels)\n",
    "\n",
    "# legend\n",
    "plt.legend();"
   ]
  },
  {
   "cell_type": "code",
   "execution_count": null,
   "metadata": {},
   "outputs": [],
   "source": []
  },
  {
   "cell_type": "markdown",
   "metadata": {},
   "source": [
    "### Conclusion on Scholarship\n",
    "From analysis, it appears that the ratio of patients who show up to patients who do not show up is 0.897486:0.881747 for those who do not have scholarship and is 0.102514:0.118253 for those who have scholarship.\n",
    "Therefore having a Scholarship or not with the Brasilian welfare program Bolsa Família does not guarantee that you will show up for your scheduled appointment."
   ]
  },
  {
   "cell_type": "code",
   "execution_count": null,
   "metadata": {},
   "outputs": [],
   "source": []
  },
  {
   "cell_type": "markdown",
   "metadata": {},
   "source": [
    "### Research Question 4 (Does the Age class of a person influence showing up for appointment?)\n"
   ]
  },
  {
   "cell_type": "code",
   "execution_count": 149,
   "metadata": {},
   "outputs": [
    {
     "data": {
      "text/plain": [
       "No_show\n",
       "No     38.823699\n",
       "Yes    34.806843\n",
       "Name: Age, dtype: float64"
      ]
     },
     "execution_count": 149,
     "metadata": {},
     "output_type": "execute_result"
    }
   ],
   "source": [
    "#finding the mean age of people who show up or does not show up for their appointment\n",
    "df.groupby('No_show')['Age'].mean()"
   ]
  },
  {
   "cell_type": "code",
   "execution_count": 150,
   "metadata": {},
   "outputs": [
    {
     "data": {
      "text/plain": [
       "Text(0, 0.5, 'Age')"
      ]
     },
     "execution_count": 150,
     "metadata": {},
     "output_type": "execute_result"
    },
    {
     "data": {
      "image/png": "[encoded data removed]",
      "text/plain": [
       "<Figure size 432x288 with 1 Axes>"
      ]
     },
     "metadata": {
      "needs_background": "light"
     },
     "output_type": "display_data"
    }
   ],
   "source": [
    "#Plot of average age of people who show up or does not show up for their appointment\n",
    "df.groupby('No_show')['Age'].mean().plot(kind='bar', title='Average Age by No Show')\n",
    "plt.xlabel('No_show')\n",
    "plt.ylabel('Age')"
   ]
  },
  {
   "cell_type": "markdown",
   "metadata": {},
   "source": [
    "It appears the average age of patients who show up for scheduled appointment is approximately 38 and the average age of patients who does not shows up for scheduled appointment is approximately 34. "
   ]
  },
  {
   "cell_type": "code",
   "execution_count": 151,
   "metadata": {},
   "outputs": [
    {
     "data": {
      "text/plain": [
       "Text(0, 0.5, 'Number Show up / No show')"
      ]
     },
     "execution_count": 151,
     "metadata": {},
     "output_type": "execute_result"
    },
    {
     "data": {
      "image/png": "[encoded data removed]",
      "text/plain": [
       "<Figure size 432x288 with 1 Axes>"
      ]
     },
     "metadata": {
      "needs_background": "light"
     },
     "output_type": "display_data"
    }
   ],
   "source": [
    "#Histogram plot of Age against Show up or no show up\n",
    "df.Age[show_up].plot(kind='hist',alpha=0.5, bins=10,color='green', label='show_up')\n",
    "df.Age[No_show_up].plot(kind='hist',alpha=0.5, bins=10, color='yellow', label='No_show_up')\n",
    "plt.legend();\n",
    "plt.xlabel('Age')\n",
    "plt.ylabel('Number Show up / No show')"
   ]
  },
  {
   "cell_type": "code",
   "execution_count": null,
   "metadata": {},
   "outputs": [],
   "source": []
  },
  {
   "cell_type": "code",
   "execution_count": 152,
   "metadata": {},
   "outputs": [
    {
     "data": {
      "text/plain": [
       "count    95151.000000\n",
       "mean        37.950132\n",
       "std         23.057861\n",
       "min          0.000000\n",
       "25%         19.000000\n",
       "50%         38.000000\n",
       "75%         56.000000\n",
       "max        115.000000\n",
       "Name: Age, dtype: float64"
      ]
     },
     "execution_count": 152,
     "metadata": {},
     "output_type": "execute_result"
    }
   ],
   "source": [
    "#Statistical description of Age to help create bins\n",
    "df.describe().Age"
   ]
  },
  {
   "cell_type": "code",
   "execution_count": 153,
   "metadata": {},
   "outputs": [
    {
     "data": {
      "text/html": [
       "<div>\n",
       "<style scoped>\n",
       "    .dataframe tbody tr th:only-of-type {\n",
       "        vertical-align: middle;\n",
       "    }\n",
       "\n",
       "    .dataframe tbody tr th {\n",
       "        vertical-align: top;\n",
       "    }\n",
       "\n",
       "    .dataframe thead th {\n",
       "        text-align: right;\n",
       "    }\n",
       "</style>\n",
       "<table border=\"1\" class=\"dataframe\">\n",
       "  <thead>\n",
       "    <tr style=\"text-align: right;\">\n",
       "      <th></th>\n",
       "      <th>Gender</th>\n",
       "      <th>AppointmentDay</th>\n",
       "      <th>Age</th>\n",
       "      <th>Neighbourhood</th>\n",
       "      <th>Scholarship</th>\n",
       "      <th>Hipertension</th>\n",
       "      <th>Diabetes</th>\n",
       "      <th>Alcoholism</th>\n",
       "      <th>Handcap</th>\n",
       "      <th>SMS_received</th>\n",
       "      <th>No_show</th>\n",
       "      <th>day_of_week</th>\n",
       "      <th>Age_class</th>\n",
       "    </tr>\n",
       "  </thead>\n",
       "  <tbody>\n",
       "    <tr>\n",
       "      <th>110520</th>\n",
       "      <td>F</td>\n",
       "      <td>2016-06-07</td>\n",
       "      <td>42</td>\n",
       "      <td>MARIA ORTIZ</td>\n",
       "      <td>0</td>\n",
       "      <td>0</td>\n",
       "      <td>0</td>\n",
       "      <td>0</td>\n",
       "      <td>0</td>\n",
       "      <td>1</td>\n",
       "      <td>No</td>\n",
       "      <td>1</td>\n",
       "      <td>Adult</td>\n",
       "    </tr>\n",
       "    <tr>\n",
       "      <th>110521</th>\n",
       "      <td>F</td>\n",
       "      <td>2016-06-07</td>\n",
       "      <td>53</td>\n",
       "      <td>MARIA ORTIZ</td>\n",
       "      <td>0</td>\n",
       "      <td>0</td>\n",
       "      <td>0</td>\n",
       "      <td>0</td>\n",
       "      <td>0</td>\n",
       "      <td>1</td>\n",
       "      <td>No</td>\n",
       "      <td>1</td>\n",
       "      <td>Adult</td>\n",
       "    </tr>\n",
       "    <tr>\n",
       "      <th>110523</th>\n",
       "      <td>F</td>\n",
       "      <td>2016-06-07</td>\n",
       "      <td>51</td>\n",
       "      <td>MARIA ORTIZ</td>\n",
       "      <td>0</td>\n",
       "      <td>0</td>\n",
       "      <td>0</td>\n",
       "      <td>0</td>\n",
       "      <td>0</td>\n",
       "      <td>1</td>\n",
       "      <td>No</td>\n",
       "      <td>1</td>\n",
       "      <td>Adult</td>\n",
       "    </tr>\n",
       "    <tr>\n",
       "      <th>110524</th>\n",
       "      <td>F</td>\n",
       "      <td>2016-06-07</td>\n",
       "      <td>21</td>\n",
       "      <td>MARIA ORTIZ</td>\n",
       "      <td>0</td>\n",
       "      <td>0</td>\n",
       "      <td>0</td>\n",
       "      <td>0</td>\n",
       "      <td>0</td>\n",
       "      <td>1</td>\n",
       "      <td>No</td>\n",
       "      <td>1</td>\n",
       "      <td>Adult</td>\n",
       "    </tr>\n",
       "    <tr>\n",
       "      <th>110525</th>\n",
       "      <td>F</td>\n",
       "      <td>2016-06-07</td>\n",
       "      <td>38</td>\n",
       "      <td>MARIA ORTIZ</td>\n",
       "      <td>0</td>\n",
       "      <td>0</td>\n",
       "      <td>0</td>\n",
       "      <td>0</td>\n",
       "      <td>0</td>\n",
       "      <td>1</td>\n",
       "      <td>No</td>\n",
       "      <td>1</td>\n",
       "      <td>Adult</td>\n",
       "    </tr>\n",
       "  </tbody>\n",
       "</table>\n",
       "</div>"
      ],
      "text/plain": [
       "       Gender AppointmentDay  Age Neighbourhood  Scholarship  Hipertension  \\\n",
       "110520      F     2016-06-07   42   MARIA ORTIZ            0             0   \n",
       "110521      F     2016-06-07   53   MARIA ORTIZ            0             0   \n",
       "110523      F     2016-06-07   51   MARIA ORTIZ            0             0   \n",
       "110524      F     2016-06-07   21   MARIA ORTIZ            0             0   \n",
       "110525      F     2016-06-07   38   MARIA ORTIZ            0             0   \n",
       "\n",
       "        Diabetes  Alcoholism  Handcap  SMS_received No_show  day_of_week  \\\n",
       "110520         0           0        0             1      No            1   \n",
       "110521         0           0        0             1      No            1   \n",
       "110523         0           0        0             1      No            1   \n",
       "110524         0           0        0             1      No            1   \n",
       "110525         0           0        0             1      No            1   \n",
       "\n",
       "       Age_class  \n",
       "110520     Adult  \n",
       "110521     Adult  \n",
       "110523     Adult  \n",
       "110524     Adult  \n",
       "110525     Adult  "
      ]
     },
     "execution_count": 153,
     "metadata": {},
     "output_type": "execute_result"
    }
   ],
   "source": [
    "# Create Bin edges to \"cut\" the age data into groups('Child','Teenage','Adult','Senior Adult')\n",
    "bin_edges = [ 0,12 ,19 , 59, 115] \n",
    "bin_names=['Child','Teenage','Adult','Senior Adult']\n",
    "df['Age_class']=pd.cut(df['Age'],bin_edges,labels=bin_names)\n",
    "df.tail()"
   ]
  },
  {
   "cell_type": "code",
   "execution_count": null,
   "metadata": {},
   "outputs": [],
   "source": []
  },
  {
   "cell_type": "code",
   "execution_count": 154,
   "metadata": {},
   "outputs": [
    {
     "data": {
      "text/plain": [
       "Adult           50978\n",
       "Senior Adult    19188\n",
       "Child           14593\n",
       "Teenage          8045\n",
       "Name: Age_class, dtype: int64"
      ]
     },
     "execution_count": 154,
     "metadata": {},
     "output_type": "execute_result"
    }
   ],
   "source": [
    "#getting the count of the age classes in the dataset\n",
    "df['Age_class'].value_counts()\n",
    "#df.groupby(['Age_class']).count()"
   ]
  },
  {
   "cell_type": "code",
   "execution_count": 155,
   "metadata": {},
   "outputs": [
    {
     "data": {
      "text/plain": [
       "No_show              \n",
       "No       Child           11270\n",
       "         Teenage          5832\n",
       "         Adult           39440\n",
       "         Senior Adult    16095\n",
       "Yes      Child            3323\n",
       "         Teenage          2213\n",
       "         Adult           11538\n",
       "         Senior Adult     3093\n",
       "Name: Age_class, dtype: int64"
      ]
     },
     "execution_count": 155,
     "metadata": {},
     "output_type": "execute_result"
    }
   ],
   "source": [
    "#Count of No show and age class\n",
    "df.groupby('No_show')['Age_class'].value_counts(sort=False)"
   ]
  },
  {
   "cell_type": "code",
   "execution_count": 156,
   "metadata": {},
   "outputs": [
    {
     "data": {
      "text/plain": [
       "No_show  Age_class   \n",
       "No       Child           11270\n",
       "         Teenage          5832\n",
       "         Adult           39440\n",
       "         Senior Adult    16095\n",
       "Yes      Child            3323\n",
       "         Teenage          2213\n",
       "         Adult           11538\n",
       "         Senior Adult     3093\n",
       "Name: Age, dtype: int64"
      ]
     },
     "execution_count": 156,
     "metadata": {},
     "output_type": "execute_result"
    }
   ],
   "source": [
    "Show_Age_counts=df.groupby(['No_show','Age_class']).count()['Age']\n",
    "Show_Age_counts"
   ]
  },
  {
   "cell_type": "code",
   "execution_count": 157,
   "metadata": {},
   "outputs": [
    {
     "data": {
      "text/plain": [
       "Text(0, 0.5, 'Number Show up / No show')"
      ]
     },
     "execution_count": 157,
     "metadata": {},
     "output_type": "execute_result"
    },
    {
     "data": {
      "image/png": "[encoded data removed]",
      "text/plain": [
       "<Figure size 432x288 with 1 Axes>"
      ]
     },
     "metadata": {
      "needs_background": "light"
     },
     "output_type": "display_data"
    }
   ],
   "source": [
    "#Plot of Age class against show up\n",
    "df.Age_class[show_up].value_counts().plot(kind='bar',alpha=0.5, color= 'green', label='show_up', title='Number of Show up based on Age_class')\n",
    "df.Age_class[No_show_up].value_counts().plot(kind='bar',alpha=0.5, color= 'yellow', label='No_show_up')\n",
    "plt.legend();\n",
    "plt.xlabel('Age_class')\n",
    "plt.ylabel('Number Show up / No show')"
   ]
  },
  {
   "cell_type": "markdown",
   "metadata": {},
   "source": [
    "The are more adults patients than other age group considering the visualisation above. "
   ]
  },
  {
   "cell_type": "code",
   "execution_count": 158,
   "metadata": {},
   "outputs": [
    {
     "data": {
      "text/plain": [
       "No_show\n",
       "No     74458\n",
       "Yes    20693\n",
       "Name: Age, dtype: int64"
      ]
     },
     "execution_count": 158,
     "metadata": {},
     "output_type": "execute_result"
    }
   ],
   "source": [
    "# get total counts for each No Show\n",
    "Show_totals = df.groupby('No_show').count()['Age']\n",
    "Show_totals"
   ]
  },
  {
   "cell_type": "code",
   "execution_count": 159,
   "metadata": {},
   "outputs": [
    {
     "data": {
      "text/plain": [
       "Age_class\n",
       "Child           0.151360\n",
       "Teenage         0.078326\n",
       "Adult           0.529695\n",
       "Senior Adult    0.216162\n",
       "Name: Age, dtype: float64"
      ]
     },
     "execution_count": 159,
     "metadata": {},
     "output_type": "execute_result"
    }
   ],
   "source": [
    "# get proportions by dividing patients who showed counts by total # of No samples in the No Show column\n",
    "No_Age_proportions = Show_Age_counts['No'] / Show_totals['No']\n",
    "No_Age_proportions"
   ]
  },
  {
   "cell_type": "code",
   "execution_count": 160,
   "metadata": {},
   "outputs": [
    {
     "data": {
      "text/plain": [
       "Age_class\n",
       "Child           0.160586\n",
       "Teenage         0.106944\n",
       "Adult           0.557580\n",
       "Senior Adult    0.149471\n",
       "Name: Age, dtype: float64"
      ]
     },
     "execution_count": 160,
     "metadata": {},
     "output_type": "execute_result"
    }
   ],
   "source": [
    "# get proportions by dividing patients who did not show counts by total # of No samples in the No Show column\n",
    "Yes_Age_proportions = Show_Age_counts['Yes'] / Show_totals['Yes']\n",
    "Yes_Age_proportions"
   ]
  },
  {
   "cell_type": "code",
   "execution_count": 161,
   "metadata": {},
   "outputs": [
    {
     "data": {
      "image/png": "[encoded data removed]",
      "text/plain": [
       "<Figure size 432x288 with 1 Axes>"
      ]
     },
     "metadata": {
      "needs_background": "light"
     },
     "output_type": "display_data"
    }
   ],
   "source": [
    "# plot of proportion on bar chart\n",
    "No_Age_bars = plt.bar(Num_x_loc(No_Age_proportions), No_Age_proportions, width, color='g', alpha=.7, label='Show up')\n",
    "Yes_Age_bars = plt.bar(Num_x_loc(No_Age_proportions) + width, Yes_Age_proportions, width, color='y', alpha=.7, label='No Show up')\n",
    "\n",
    "# title and labels\n",
    "plt.ylabel('Proportion')\n",
    "plt.xlabel('Age Class')\n",
    "plt.title('Proportion by No Show and Age class')\n",
    "locations = Num_x_loc(No_Age_proportions) + width / 2  # xtick locations\n",
    "labels = ['Child', 'Teenage', 'Adult', 'Senior Adult']  # xtick labels\n",
    "plt.xticks(locations, labels)\n",
    "\n",
    "# legend\n",
    "plt.legend();"
   ]
  },
  {
   "cell_type": "markdown",
   "metadata": {},
   "source": []
  },
  {
   "cell_type": "markdown",
   "metadata": {},
   "source": [
    "### Conclusion on Age\n",
    "In my analysis, given the ratio of showing up and not showing up for appointment for a Senior Adult, it appears Senior Adults are more likely to show up for scheduled appointment. Teenage and Adult patients are less likely to show up for a scheduled appointment. Children, on the other hand are almost just as likely to show up as they are unlikely to show up for a scheduled appointment."
   ]
  },
  {
   "cell_type": "markdown",
   "metadata": {},
   "source": [
    "### Research Question 5 (Does the Gender of a person influence Showing up for appointment?)"
   ]
  },
  {
   "cell_type": "code",
   "execution_count": 162,
   "metadata": {},
   "outputs": [
    {
     "data": {
      "text/plain": [
       "F    61810\n",
       "M    33341\n",
       "Name: Gender, dtype: int64"
      ]
     },
     "execution_count": 162,
     "metadata": {},
     "output_type": "execute_result"
    }
   ],
   "source": [
    "#Count of each gender\n",
    "df.Gender.value_counts()\n"
   ]
  },
  {
   "cell_type": "code",
   "execution_count": 163,
   "metadata": {},
   "outputs": [
    {
     "data": {
      "text/plain": [
       "Gender  No_show\n",
       "F       No         48243\n",
       "        Yes        13567\n",
       "M       No         26215\n",
       "        Yes         7126\n",
       "Name: No_show, dtype: int64"
      ]
     },
     "execution_count": 163,
     "metadata": {},
     "output_type": "execute_result"
    }
   ],
   "source": [
    "#COunt of Gender based on No Show\n",
    "df.groupby('Gender')['No_show'].value_counts()"
   ]
  },
  {
   "cell_type": "code",
   "execution_count": 164,
   "metadata": {
    "scrolled": true
   },
   "outputs": [
    {
     "data": {
      "text/plain": [
       "Text(0, 0.5, 'Number Show up / No show')"
      ]
     },
     "execution_count": 164,
     "metadata": {},
     "output_type": "execute_result"
    },
    {
     "data": {
      "image/png": "[encoded data removed]",
      "text/plain": [
       "<Figure size 432x288 with 1 Axes>"
      ]
     },
     "metadata": {
      "needs_background": "light"
     },
     "output_type": "display_data"
    }
   ],
   "source": [
    "#plot of Number of Show up or No show up against Gender\n",
    "df.Gender[show_up].value_counts().plot(kind='bar',alpha=0.5, color= 'green', label='show_up', title='Number of Show up based on Gender')\n",
    "df.Gender[No_show_up].value_counts().plot(kind='bar',alpha=0.5, color= 'yellow', label='No_show_up')\n",
    "plt.legend();\n",
    "plt.xlabel('Gender')\n",
    "plt.ylabel('Number Show up / No show')"
   ]
  },
  {
   "cell_type": "markdown",
   "metadata": {},
   "source": [
    "Clearly, there are more female than the male gender showing up or not showing up for appointments"
   ]
  },
  {
   "cell_type": "code",
   "execution_count": 165,
   "metadata": {},
   "outputs": [
    {
     "data": {
      "text/plain": [
       "No_show  Gender\n",
       "No       F         48243\n",
       "         M         26215\n",
       "Yes      F         13567\n",
       "         M          7126\n",
       "Name: Age, dtype: int64"
      ]
     },
     "execution_count": 165,
     "metadata": {},
     "output_type": "execute_result"
    }
   ],
   "source": [
    "#Counting No Show and gender\n",
    "ShowGen_counts=df.groupby(['No_show','Gender']).count()['Age']\n",
    "ShowGen_counts"
   ]
  },
  {
   "cell_type": "code",
   "execution_count": 166,
   "metadata": {},
   "outputs": [
    {
     "data": {
      "text/plain": [
       "No_show\n",
       "No     74458\n",
       "Yes    20693\n",
       "Name: Age, dtype: int64"
      ]
     },
     "execution_count": 166,
     "metadata": {},
     "output_type": "execute_result"
    }
   ],
   "source": [
    "# get total counts for each No Show\n",
    "Show_totals = df.groupby('No_show').count()['Age']\n",
    "Show_totals"
   ]
  },
  {
   "cell_type": "code",
   "execution_count": 167,
   "metadata": {},
   "outputs": [
    {
     "data": {
      "text/plain": [
       "Gender\n",
       "F    0.647922\n",
       "M    0.352078\n",
       "Name: Age, dtype: float64"
      ]
     },
     "execution_count": 167,
     "metadata": {},
     "output_type": "execute_result"
    }
   ],
   "source": [
    "# get proportions by dividing patients who showed counts by total # of No samples in the No Show column\n",
    "No_Gen_proportions = ShowGen_counts['No'] / Show_totals['No']\n",
    "No_Gen_proportions"
   ]
  },
  {
   "cell_type": "code",
   "execution_count": 168,
   "metadata": {},
   "outputs": [
    {
     "data": {
      "text/plain": [
       "Gender\n",
       "F    0.655632\n",
       "M    0.344368\n",
       "Name: Age, dtype: float64"
      ]
     },
     "execution_count": 168,
     "metadata": {},
     "output_type": "execute_result"
    }
   ],
   "source": [
    "# get proportions by dividing patients who did not show counts by total # of No samples in the No Show column\n",
    "Yes_Gen_proportions = ShowGen_counts['Yes'] / Show_totals['Yes']\n",
    "Yes_Gen_proportions"
   ]
  },
  {
   "cell_type": "code",
   "execution_count": 169,
   "metadata": {},
   "outputs": [
    {
     "data": {
      "text/plain": [
       "<matplotlib.legend.Legend at 0x2cd90e3f760>"
      ]
     },
     "execution_count": 169,
     "metadata": {},
     "output_type": "execute_result"
    },
    {
     "data": {
      "image/png": "[encoded data removed]",
      "text/plain": [
       "<Figure size 432x288 with 1 Axes>"
      ]
     },
     "metadata": {
      "needs_background": "light"
     },
     "output_type": "display_data"
    }
   ],
   "source": [
    "# plot of proportion on bar chart\n",
    "No_Gen_bars = plt.bar(Num_x_loc(No_Gen_proportions), No_Gen_proportions, width, color='g', alpha=.7, label='Show up')\n",
    "Yes_Gen_bars = plt.bar(Num_x_loc(No_Gen_proportions) + width, Yes_Gen_proportions, width, color='y', alpha=.7, label='No Show up')\n",
    "\n",
    "# title and labels\n",
    "plt.ylabel('Proportion')\n",
    "plt.xlabel('Gender')\n",
    "plt.title('Proportion by No Show and Gender')\n",
    "locations = Num_x_loc(No_Gen_proportions) + width / 2  # xtick locations\n",
    "labels = ['F', 'M']  # xtick labels\n",
    "plt.xticks(locations, labels)\n",
    "\n",
    "# legend\n",
    "plt.legend()"
   ]
  },
  {
   "cell_type": "markdown",
   "metadata": {},
   "source": [
    "### Conclusion on Gender\n",
    "Considering the above visualization, gender is not a strong variable to determine if a patient will show up for an appointment or not since the proportion of both male and female for showing up for appointment is almost 50:50."
   ]
  },
  {
   "cell_type": "markdown",
   "metadata": {},
   "source": [
    "### Research Question 6 (Does the Neigbourhood a person lives in influence Showing up for appointment?)"
   ]
  },
  {
   "cell_type": "code",
   "execution_count": 170,
   "metadata": {},
   "outputs": [
    {
     "data": {
      "text/plain": [
       "81"
      ]
     },
     "execution_count": 170,
     "metadata": {},
     "output_type": "execute_result"
    }
   ],
   "source": [
    "#number of unique neighbourhood\n",
    "df.Neighbourhood.nunique()"
   ]
  },
  {
   "cell_type": "code",
   "execution_count": 171,
   "metadata": {},
   "outputs": [
    {
     "data": {
      "text/plain": [
       "Neighbourhood\n",
       "AEROPORTO                 8\n",
       "ANDORINHAS             1971\n",
       "ANTÔNIO HONÓRIO         254\n",
       "ARIOVALDO FAVALESSA     269\n",
       "BARRO VERMELHO          392\n",
       "                       ... \n",
       "SÃO JOSÉ               1712\n",
       "SÃO PEDRO              2162\n",
       "TABUAZEIRO             2784\n",
       "UNIVERSITÁRIO           149\n",
       "VILA RUBIM              809\n",
       "Name: No_show, Length: 81, dtype: int64"
      ]
     },
     "execution_count": 171,
     "metadata": {},
     "output_type": "execute_result"
    }
   ],
   "source": [
    "#Count of patients who showed up or does not show up based on Neighbourhood\n",
    "df.groupby('Neighbourhood').count()['No_show']"
   ]
  },
  {
   "cell_type": "code",
   "execution_count": 172,
   "metadata": {},
   "outputs": [
    {
     "data": {
      "text/plain": [
       "JARDIM CAMBURI       4007\n",
       "MARIA ORTIZ          3171\n",
       "RESISTÊNCIA          2736\n",
       "JARDIM DA PENHA      2592\n",
       "TABUAZEIRO           2238\n",
       "                     ... \n",
       "PONTAL DE CAMBURI      51\n",
       "ILHA DO BOI            32\n",
       "ILHA DO FRADE           8\n",
       "AEROPORTO               7\n",
       "PARQUE INDUSTRIAL       1\n",
       "Name: Neighbourhood, Length: 80, dtype: int64"
      ]
     },
     "execution_count": 172,
     "metadata": {},
     "output_type": "execute_result"
    }
   ],
   "source": [
    "#Count of patients who does not show up based on Neighbourhood\n",
    "df.Neighbourhood[show_up].value_counts()"
   ]
  },
  {
   "cell_type": "code",
   "execution_count": 173,
   "metadata": {},
   "outputs": [
    {
     "data": {
      "text/plain": [
       "JARDIM CAMBURI                 1247\n",
       "MARIA ORTIZ                    1052\n",
       "ITARARÉ                         845\n",
       "RESISTÊNCIA                     821\n",
       "JESUS DE NAZARETH               641\n",
       "                               ... \n",
       "PONTAL DE CAMBURI                12\n",
       "ILHA DO BOI                       3\n",
       "ILHAS OCEÂNICAS DE TRINDADE       2\n",
       "ILHA DO FRADE                     2\n",
       "AEROPORTO                         1\n",
       "Name: Neighbourhood, Length: 80, dtype: int64"
      ]
     },
     "execution_count": 173,
     "metadata": {},
     "output_type": "execute_result"
    }
   ],
   "source": [
    "#Count of patients who does not show up based on Neighbourhood\n",
    "df.Neighbourhood[No_show_up].value_counts()"
   ]
  },
  {
   "cell_type": "code",
   "execution_count": 174,
   "metadata": {},
   "outputs": [
    {
     "data": {
      "image/png": "[encoded data removed]",
      "text/plain": [
       "<Figure size 1440x576 with 1 Axes>"
      ]
     },
     "metadata": {
      "needs_background": "light"
     },
     "output_type": "display_data"
    }
   ],
   "source": [
    "#Bar chart of Show up/No show up based on Neigbourhood count\n",
    "plt.figure(figsize=(20,8))\n",
    "df.Neighbourhood[show_up].value_counts().plot(kind='bar',alpha=0.5, color= 'green', label='show_up',title='Number of Show up based on Neighbourhood')\n",
    "df.Neighbourhood[No_show_up].value_counts().plot(kind='bar',alpha=0.5, color= 'yellow', label='No_show_up')\n",
    "plt.xlabel('Neighbourhood')\n",
    "plt.ylabel('Number of show up/ No show up')\n",
    "plt.legend();"
   ]
  },
  {
   "cell_type": "markdown",
   "metadata": {},
   "source": [
    "The bar chart represents the neighbourhood that has the most patients scheduling appointment. Each bar consist of number patients who showed up and patients who did not show up based on the neighbourhood they live in. "
   ]
  },
  {
   "cell_type": "code",
   "execution_count": 175,
   "metadata": {},
   "outputs": [
    {
     "data": {
      "text/plain": [
       "No_show  Neighbourhood      \n",
       "No       AEROPORTO                 7\n",
       "         ANDORINHAS             1505\n",
       "         ANTÔNIO HONÓRIO         205\n",
       "         ARIOVALDO FAVALESSA     209\n",
       "         BARRO VERMELHO          304\n",
       "                                ... \n",
       "Yes      SÃO JOSÉ                384\n",
       "         SÃO PEDRO               479\n",
       "         TABUAZEIRO              546\n",
       "         UNIVERSITÁRIO            32\n",
       "         VILA RUBIM              139\n",
       "Name: Age, Length: 160, dtype: int64"
      ]
     },
     "execution_count": 175,
     "metadata": {},
     "output_type": "execute_result"
    }
   ],
   "source": [
    "#Counting No Show and Neighbourhood\n",
    "ShowNei_counts=df.groupby(['No_show','Neighbourhood']).count()['Age']\n",
    "ShowNei_counts"
   ]
  },
  {
   "cell_type": "code",
   "execution_count": 176,
   "metadata": {},
   "outputs": [
    {
     "data": {
      "text/plain": [
       "No_show\n",
       "No     74458\n",
       "Yes    20693\n",
       "Name: Age, dtype: int64"
      ]
     },
     "execution_count": 176,
     "metadata": {},
     "output_type": "execute_result"
    }
   ],
   "source": [
    "# get total counts for each No Show\n",
    "Show_totals = df.groupby('No_show').count()['Age']\n",
    "Show_totals"
   ]
  },
  {
   "cell_type": "code",
   "execution_count": 177,
   "metadata": {},
   "outputs": [
    {
     "data": {
      "text/plain": [
       "Neighbourhood\n",
       "AEROPORTO              0.000094\n",
       "ANDORINHAS             0.020213\n",
       "ANTÔNIO HONÓRIO        0.002753\n",
       "ARIOVALDO FAVALESSA    0.002807\n",
       "BARRO VERMELHO         0.004083\n",
       "                         ...   \n",
       "SÃO JOSÉ               0.017836\n",
       "SÃO PEDRO              0.022603\n",
       "TABUAZEIRO             0.030057\n",
       "UNIVERSITÁRIO          0.001571\n",
       "VILA RUBIM             0.008998\n",
       "Name: Age, Length: 80, dtype: float64"
      ]
     },
     "execution_count": 177,
     "metadata": {},
     "output_type": "execute_result"
    }
   ],
   "source": [
    "# get proportions by dividing patients who showed counts by total # of No samples in the No Show column\n",
    "No_proportions = ShowNei_counts['No'] / Show_totals['No']\n",
    "No_proportions"
   ]
  },
  {
   "cell_type": "code",
   "execution_count": 178,
   "metadata": {},
   "outputs": [
    {
     "data": {
      "text/plain": [
       "Neighbourhood\n",
       "AEROPORTO              0.000048\n",
       "ANDORINHAS             0.022520\n",
       "ANTÔNIO HONÓRIO        0.002368\n",
       "ARIOVALDO FAVALESSA    0.002900\n",
       "BARRO VERMELHO         0.004253\n",
       "                         ...   \n",
       "SÃO JOSÉ               0.018557\n",
       "SÃO PEDRO              0.023148\n",
       "TABUAZEIRO             0.026386\n",
       "UNIVERSITÁRIO          0.001546\n",
       "VILA RUBIM             0.006717\n",
       "Name: Age, Length: 80, dtype: float64"
      ]
     },
     "execution_count": 178,
     "metadata": {},
     "output_type": "execute_result"
    }
   ],
   "source": [
    "# get proportions by dividing patients who did not show counts by total # of No samples in the No Show column\n",
    "Yes_proportions = ShowNei_counts['Yes'] / Show_totals['Yes']\n",
    "Yes_proportions"
   ]
  },
  {
   "cell_type": "code",
   "execution_count": 179,
   "metadata": {},
   "outputs": [
    {
     "name": "stdout",
     "output_type": "stream",
     "text": [
      "['AEROPORTO', 'ANDORINHAS', 'ANTÔNIO HONÓRIO', 'ARIOVALDO FAVALESSA', 'BARRO VERMELHO', 'BELA VISTA', 'BENTO FERREIRA', 'BOA VISTA', 'BONFIM', 'CARATOÍRA', 'CENTRO', 'COMDUSA', 'CONQUISTA', 'CONSOLAÇÃO', 'CRUZAMENTO', 'DA PENHA', 'DE LOURDES', 'DO CABRAL', 'DO MOSCOSO', 'DO QUADRO', 'ENSEADA DO SUÁ', 'ESTRELINHA', 'FONTE GRANDE', 'FORTE SÃO JOÃO', 'FRADINHOS', 'GOIABEIRAS', 'GRANDE VITÓRIA', 'GURIGICA', 'HORTO', 'ILHA DAS CAIEIRAS', 'ILHA DE SANTA MARIA', 'ILHA DO BOI', 'ILHA DO FRADE', 'ILHA DO PRÍNCIPE', 'INHANGUETÁ', 'ITARARÉ', 'JABOUR', 'JARDIM CAMBURI', 'JARDIM DA PENHA', 'JESUS DE NAZARETH', 'JOANA D´ARC', 'JUCUTUQUARA', 'MARIA ORTIZ', 'MARUÍPE', 'MATA DA PRAIA', 'MONTE BELO', 'MORADA DE CAMBURI', 'MÁRIO CYPRESTE', 'NAZARETH', 'NOVA PALESTINA', 'PARQUE INDUSTRIAL', 'PARQUE MOSCOSO', 'PIEDADE', 'PONTAL DE CAMBURI', 'PRAIA DO CANTO', 'PRAIA DO SUÁ', 'REDENÇÃO', 'REPÚBLICA', 'RESISTÊNCIA', 'ROMÃO', 'SANTA CECÍLIA', 'SANTA CLARA', 'SANTA HELENA', 'SANTA LUÍZA', 'SANTA LÚCIA', 'SANTA MARTHA', 'SANTA TEREZA', 'SANTO ANDRÉ', 'SANTO ANTÔNIO', 'SANTOS DUMONT', 'SANTOS REIS', 'SEGURANÇA DO LAR', 'SOLON BORGES', 'SÃO BENEDITO', 'SÃO CRISTÓVÃO', 'SÃO JOSÉ', 'SÃO PEDRO', 'TABUAZEIRO', 'UNIVERSITÁRIO', 'VILA RUBIM']\n"
     ]
    }
   ],
   "source": [
    "#Get the name of neigbourhood that show or did not show up\n",
    "A=df.Neighbourhood[show_up].unique()\n",
    "print(sorted(A))\n",
    "#A\n"
   ]
  },
  {
   "cell_type": "code",
   "execution_count": 653,
   "metadata": {},
   "outputs": [],
   "source": []
  },
  {
   "cell_type": "code",
   "execution_count": 180,
   "metadata": {},
   "outputs": [
    {
     "data": {
      "text/plain": [
       "<matplotlib.legend.Legend at 0x2cd914683a0>"
      ]
     },
     "execution_count": 180,
     "metadata": {},
     "output_type": "execute_result"
    },
    {
     "data": {
      "image/png": "[encoded data removed]",
      "text/plain": [
       "<Figure size 1440x576 with 1 Axes>"
      ]
     },
     "metadata": {
      "needs_background": "light"
     },
     "output_type": "display_data"
    }
   ],
   "source": [
    "# plot of proportion on bar chart\n",
    "plt.figure(figsize=(20,8))\n",
    "No_bars = plt.bar(Num_x_loc(No_proportions), No_proportions, width, color='g', alpha=.7, label='Show up')\n",
    "Yes_bars = plt.bar(Num_x_loc(No_proportions) + width, Yes_proportions, width, color='y', alpha=.7, label='No Show up')\n",
    "\n",
    "# title and labels\n",
    "plt.ylabel('Proportion')\n",
    "plt.xlabel('Neighbourhood')\n",
    "plt.title('Proportion by No Show and Neighbourhood')\n",
    "locations = Num_x_loc(No_proportions) + width / 2  # xtick locations\n",
    "labels = ['AEROPORTO', 'ANDORINHAS', 'ANTÔNIO HONÓRIO', 'ARIOVALDO FAVALESSA', 'BARRO VERMELHO', 'BELA VISTA', 'BENTO FERREIRA', 'BOA VISTA', 'BONFIM', 'CARATOÍRA', 'CENTRO', 'COMDUSA', 'CONQUISTA', 'CONSOLAÇÃO', 'CRUZAMENTO', 'DA PENHA', 'DE LOURDES', 'DO CABRAL', 'DO MOSCOSO', 'DO QUADRO', 'ENSEADA DO SUÁ', 'ESTRELINHA', 'FONTE GRANDE', 'FORTE SÃO JOÃO', 'FRADINHOS', 'GOIABEIRAS', 'GRANDE VITÓRIA', 'GURIGICA', 'HORTO', 'ILHA DAS CAIEIRAS', 'ILHA DE SANTA MARIA', 'ILHA DO BOI', 'ILHA DO FRADE', 'ILHA DO PRÍNCIPE', 'INHANGUETÁ', 'ITARARÉ', 'JABOUR', 'JARDIM CAMBURI', 'JARDIM DA PENHA', 'JESUS DE NAZARETH', 'JOANA D´ARC', 'JUCUTUQUARA', 'MARIA ORTIZ', 'MARUÍPE', 'MATA DA PRAIA', 'MONTE BELO', 'MORADA DE CAMBURI', 'MÁRIO CYPRESTE', 'NAZARETH', 'NOVA PALESTINA', 'PARQUE INDUSTRIAL', 'PARQUE MOSCOSO', 'PIEDADE', 'PONTAL DE CAMBURI', 'PRAIA DO CANTO', 'PRAIA DO SUÁ', 'REDENÇÃO', 'REPÚBLICA', 'RESISTÊNCIA', 'ROMÃO', 'SANTA CECÍLIA', 'SANTA CLARA', 'SANTA HELENA', 'SANTA LUÍZA', 'SANTA LÚCIA', 'SANTA MARTHA', 'SANTA TEREZA', 'SANTO ANDRÉ', 'SANTO ANTÔNIO', 'SANTOS DUMONT', 'SANTOS REIS', 'SEGURANÇA DO LAR', 'SOLON BORGES', 'SÃO BENEDITO', 'SÃO CRISTÓVÃO', 'SÃO JOSÉ', 'SÃO PEDRO', 'TABUAZEIRO', 'UNIVERSITÁRIO', 'VILA RUBIM']\n",
    "plt.xticks(locations, labels,rotation=90)\n",
    "\n",
    "# legend\n",
    "plt.legend()"
   ]
  },
  {
   "cell_type": "markdown",
   "metadata": {},
   "source": [
    "### Conclusion on Neighbourhood\n",
    "Given the visualization, From observation, it appears patients from JARDIM CAMBURI and MARIA ORTIZ neighbourhood happen to show up more for appointments as compared to patients from MARUÍPE. Therefore, the Neigbourhood a patients lives in greatly affects whether or not a patients shows up for a scheduled appointment since the location of the closer the facility is to a neigbourhood, the more probable it is for a patient to show up. Transportation availability and cost of transportation from a patients neighbourhood to the facility is another factor which may affect show up for appointment."
   ]
  },
  {
   "cell_type": "markdown",
   "metadata": {},
   "source": [
    "### RELATIONSHIP BETWEEN VARIABLES"
   ]
  },
  {
   "cell_type": "markdown",
   "metadata": {},
   "source": [
    "### Research Question 7 (Does the gender and age class of a patient affect show up?)"
   ]
  },
  {
   "cell_type": "code",
   "execution_count": 186,
   "metadata": {},
   "outputs": [
    {
     "data": {
      "text/plain": [
       "No_show  Gender  Age_class   \n",
       "No       F       Child            5411\n",
       "                 Teenage          3743\n",
       "                 Adult           27478\n",
       "                 Senior Adult    10725\n",
       "         M       Child            5859\n",
       "                 Teenage          2089\n",
       "                 Adult           11962\n",
       "                 Senior Adult     5370\n",
       "Yes      F       Child            1588\n",
       "                 Teenage          1425\n",
       "                 Adult            8153\n",
       "                 Senior Adult     2135\n",
       "         M       Child            1735\n",
       "                 Teenage           788\n",
       "                 Adult            3385\n",
       "                 Senior Adult      958\n",
       "Name: Age, dtype: int64"
      ]
     },
     "execution_count": 186,
     "metadata": {},
     "output_type": "execute_result"
    }
   ],
   "source": [
    "#Count of No show, Gender and Age class\n",
    "Show_GA_counts=df.groupby(['No_show','Gender','Age_class']).count()['Age']\n",
    "Show_GA_counts"
   ]
  },
  {
   "cell_type": "code",
   "execution_count": 187,
   "metadata": {},
   "outputs": [
    {
     "data": {
      "text/plain": [
       "Gender  Age_class   \n",
       "F       Child           0.072672\n",
       "        Teenage         0.050270\n",
       "        Adult           0.369040\n",
       "        Senior Adult    0.144041\n",
       "M       Child           0.078689\n",
       "        Teenage         0.028056\n",
       "        Adult           0.160654\n",
       "        Senior Adult    0.072121\n",
       "Name: Age, dtype: float64"
      ]
     },
     "execution_count": 187,
     "metadata": {},
     "output_type": "execute_result"
    }
   ],
   "source": [
    "# get proportions by dividing each gender and age class patients who showed counts by total # of No samples in the No Show column\n",
    "No_GA_proportions = Show_GA_counts['No'] / Show_totals['No']\n",
    "No_GA_proportions"
   ]
  },
  {
   "cell_type": "code",
   "execution_count": 188,
   "metadata": {},
   "outputs": [
    {
     "data": {
      "text/plain": [
       "Gender  Age_class   \n",
       "F       Child           0.076741\n",
       "        Teenage         0.068864\n",
       "        Adult           0.393998\n",
       "        Senior Adult    0.103175\n",
       "M       Child           0.083845\n",
       "        Teenage         0.038081\n",
       "        Adult           0.163582\n",
       "        Senior Adult    0.046296\n",
       "Name: Age, dtype: float64"
      ]
     },
     "execution_count": 188,
     "metadata": {},
     "output_type": "execute_result"
    }
   ],
   "source": [
    "# get proportions by dividing each gender and age class patients who did not show counts by total # of No samples in the No Show column\n",
    "Yes_GA_proportions = Show_GA_counts['Yes'] / Show_totals['Yes']\n",
    "Yes_GA_proportions"
   ]
  },
  {
   "cell_type": "code",
   "execution_count": 184,
   "metadata": {},
   "outputs": [],
   "source": []
  },
  {
   "cell_type": "code",
   "execution_count": 190,
   "metadata": {},
   "outputs": [
    {
     "data": {
      "text/plain": [
       "<matplotlib.legend.Legend at 0x2cd91424640>"
      ]
     },
     "execution_count": 190,
     "metadata": {},
     "output_type": "execute_result"
    },
    {
     "data": {
      "image/png": "[encoded data removed]",
      "text/plain": [
       "<Figure size 1440x576 with 1 Axes>"
      ]
     },
     "metadata": {
      "needs_background": "light"
     },
     "output_type": "display_data"
    }
   ],
   "source": [
    "# plot of proportion on bar chart\n",
    "plt.figure(figsize=(20,8))\n",
    "No_GA_bars = plt.bar(Num_x_loc(No_GA_proportions), No_GA_proportions, width, color='g', alpha=.7, label='Show up')\n",
    "Yes_GA_bars = plt.bar(Num_x_loc(No_GA_proportions) + width, Yes_GA_proportions, width, color='y', alpha=.7, label='No Show up')\n",
    "\n",
    "# title and labels\n",
    "plt.ylabel('Proportion')\n",
    "plt.xlabel('Gender and Age class')\n",
    "plt.title('Proportion by No Show, Gender and Age class')\n",
    "locations = Num_x_loc(No_GA_proportions) + width / 2  # xtick locations\n",
    "labels = ['F,Child', 'M,Child' ,'F,Teenage','M,Teenage', 'F,Adult', 'M,Adult','F,Senior Adult','M,Senior Adult']\n",
    "plt.xticks(locations, labels,rotation=90)\n",
    "\n",
    "# legend\n",
    "plt.legend()"
   ]
  },
  {
   "cell_type": "markdown",
   "metadata": {},
   "source": [
    "The above visualisation proves that, male teenagers and male Senior adults have higher proportion of showing up for appointment."
   ]
  },
  {
   "cell_type": "markdown",
   "metadata": {},
   "source": [
    "<a id='conclusions'></a>\n",
    "## Conclusions\n"
   ]
  },
  {
   "cell_type": "markdown",
   "metadata": {
    "collapsed": true
   },
   "source": [
    "In Conclusion, out of 95152 patients that were being investigated, 74458 showed up for their scheduled medical appointment. The remaining 20693 patients did not show. In my quest to find out if the day of the week the appointment was scheduled affect show up, I found out that most appointments are scheduled on Tuesdays and Wednesdays with Saturday recording the lowest appointment made. It appears Tuesday, Wednesday and Thursday have a higher proportion for show up against not showing up for appointment. Therefore patients are more likely to show up for scheduled medical appointment on these days than any other days.\n",
    "During my analysis, I was curious to know if receiving SMS notification reminders before your scheduled appointment would increase showing up relatively. In my findings, I noticed that, majority of patients who did not receiving SMS notification reminders show up to their scheduled appointments as compared to those who received SMS notification reminders. Given the proportion of show up or no show up for patients who recieved SMS notification reminders, it implies that receiving SMS notification reminders before appointment does not gaurantee showing up.\n",
    "Being on Brasilian welfare program Bolsa Família Scholarship is another feature which could influence if a patient shows up for a scheduled appointment. Even though majority of the patients are without Scholarship but idealy, one would think having a Scholarship would imply patients showing up for appointments since it would be free. That is not the case for those who have scholarships.\n",
    "The age bracket of a patient could affect showing up for a scheduled appointment so I decided to dive into finding out which age group shows up more for appointments. In my analysis, given the ratio of showing up and not showing up for appointment for a Senior Adult, it appears Senior Adults are more likely to show up for scheduled appointment. Teenage and Adult patients are less likely to show up for a scheduled appointment.\n",
    "Considering gender as an independent variable, more of female scheduled appointment than male but the proportion of a male showing up is slightly higher than not showing up as compared to the proportion of a female showing up is slightly lower than not showing up. In my opinion and based on this analysis, gender is not a strong variable to determine if a patient will show up for an appointment or not.\n",
    "Majority of patients who schedules an appointment lives in JARDIM CAMBURI and the least number of patients live in AEROPORTO. The Neighbourhood a patient lives in greatly affects whether or not a patients shows up for a scheduled appointment since the location of the closer the facility is to a neigbourhood, the more probable it is for a patient to show up.Transportation availability and cost of transportation from a patients neighbourhood to the facility is another factor which may affect show up for appointment. That been said, it appears patients from JARDIM CAMBURI and MARIA ORTIZ neighbourhood happen to show up more for appointments as compared to patients from MARUÍPE.\n",
    "Looking at two independent variables gender and age class, I noticed male teenagers and male Senior adults are more probable to showing up for appointment whereas female teenagers and male child are more like not to show up.\n",
    "Therefore these are some of main variables to determine whether or not a patient will show up for appointment.\n"
   ]
  },
  {
   "cell_type": "markdown",
   "metadata": {},
   "source": [
    "### Limitations\n",
    "There was one limitation to my analysis design which may affect the prediction made. To make such a prediction especially based on the features provided, we need a larger dataset. Therefore, I need a larger dataset to make a concise prediction of whether or not a patient will show up appointment."
   ]
  },
  {
   "cell_type": "code",
   "execution_count": null,
   "metadata": {},
   "outputs": [],
   "source": []
  }
 ],
 "metadata": {
  "kernelspec": {
   "display_name": "Python 3 (ipykernel)",
   "language": "python",
   "name": "python3"
  },
  "language_info": {
   "codemirror_mode": {
    "name": "ipython",
    "version": 3
   },
   "file_extension": ".py",
   "mimetype": "text/x-python",
   "name": "python",
   "nbconvert_exporter": "python",
   "pygments_lexer": "ipython3",
   "version": "3.9.12"
  }
 },
 "nbformat": 4,
 "nbformat_minor": 2
}
